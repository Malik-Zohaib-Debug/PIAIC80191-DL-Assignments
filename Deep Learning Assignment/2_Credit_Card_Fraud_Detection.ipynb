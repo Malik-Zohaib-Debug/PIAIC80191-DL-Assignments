{
 "cells": [
  {
   "cell_type": "markdown",
   "metadata": {
    "id": "IjXyBC8Rz4Od"
   },
   "source": [
    "Credit Card Fraud Detection::"
   ]
  },
  {
   "cell_type": "markdown",
   "metadata": {
    "id": "mqv0OXC9UPMg"
   },
   "source": [
    "Download dataset from this link:\n",
    "\n",
    "https://www.kaggle.com/mlg-ulb/creditcardfraud"
   ]
  },
  {
   "cell_type": "markdown",
   "metadata": {
    "id": "sGXx1UWQUPMh"
   },
   "source": [
    "# Description about dataset::"
   ]
  },
  {
   "cell_type": "markdown",
   "metadata": {
    "id": "VRxNcnhLUPMh"
   },
   "source": [
    "The datasets contains transactions made by credit cards in September 2013 by european cardholders.\n",
    "This dataset presents transactions that occurred in two days, where we have 492 frauds out of 284,807 transactions. The dataset is highly unbalanced, the positive class (frauds) account for 0.172% of all transactions.\n",
    "\n",
    "It contains only numerical input variables which are the result of a PCA transformation. Unfortunately, due to confidentiality issues, we cannot provide the original features and more background information about the data. Features V1, V2, … V28 are the principal components obtained with PCA, the only features which have not been transformed with PCA are 'Time' and 'Amount'. Feature 'Time' contains the seconds elapsed between each transaction and the first transaction in the dataset. The feature 'Amount' is the transaction Amount, this feature can be used for example-dependant cost-senstive learning. \n",
    "\n",
    "\n",
    "### Feature 'Class' is the response variable and it takes value 1 in case of fraud and 0 otherwise."
   ]
  },
  {
   "cell_type": "markdown",
   "metadata": {
    "id": "s7iFX8c-UPMi"
   },
   "source": [
    "# WORKFLOW :"
   ]
  },
  {
   "cell_type": "markdown",
   "metadata": {
    "id": "xyOHvkvlUPMi"
   },
   "source": [
    "1.Load Data\n",
    "\n",
    "2.Check Missing Values ( If Exist ; Fill each record with mean of its feature )\n",
    "\n",
    "3.Standardized the Input Variables. \n",
    "\n",
    "4.Split into 50% Training(Samples,Labels) , 30% Test(Samples,Labels) and 20% Validation Data(Samples,Labels).\n",
    "\n",
    "5.Model : input Layer (No. of features ), 3 hidden layers including 10,8,6 unit & Output Layer with activation function relu/tanh (check by experiment).\n",
    "\n",
    "6.Compilation Step (Note : Its a Binary problem , select loss , metrics according to it)\n",
    "\n",
    "7.Train the Model with Epochs (100).\n",
    "\n",
    "8.If the model gets overfit tune your model by changing the units , No. of layers , epochs , add dropout layer or add Regularizer according to the need .\n",
    "\n",
    "9.Prediction should be > 92%\n",
    "10.Evaluation Step\n",
    "11Prediction\n"
   ]
  },
  {
   "cell_type": "markdown",
   "metadata": {
    "id": "-k7vK7NwUPMj"
   },
   "source": [
    "# Task::"
   ]
  },
  {
   "cell_type": "markdown",
   "metadata": {
    "id": "Nw3YypdxUPMj"
   },
   "source": [
    "## Identify fraudulent credit card transactions."
   ]
  },
  {
   "cell_type": "code",
   "execution_count": 55,
   "metadata": {
    "colab": {
     "base_uri": "https://localhost:8080/"
    },
    "id": "XsKOVdySz156",
    "outputId": "91bb97a1-dd24-49b1-d4e3-34c90dba8c2b"
   },
   "outputs": [
    {
     "name": "stdout",
     "output_type": "stream",
     "text": [
      "Drive already mounted at /content/drive; to attempt to forcibly remount, call drive.mount(\"/content/drive\", force_remount=True).\n"
     ]
    }
   ],
   "source": [
    "from google.colab import drive\n",
    "drive.mount('/content/drive')"
   ]
  },
  {
   "cell_type": "code",
   "execution_count": 56,
   "metadata": {
    "colab": {
     "base_uri": "https://localhost:8080/"
    },
    "id": "absyODuD0YJm",
    "outputId": "13c1a27c-6d5d-4ea3-94f5-35b27711cca4"
   },
   "outputs": [
    {
     "name": "stdout",
     "output_type": "stream",
     "text": [
      "2.4.1\n"
     ]
    }
   ],
   "source": [
    "# import libraries\n",
    "import tensorflow as tf\n",
    "from tensorflow import keras\n",
    "from tensorflow.keras import Sequential\n",
    "from tensorflow.keras.layers import Flatten, Dense, Dropout, BatchNormalization\n",
    "from tensorflow.keras.layers import Conv1D, MaxPool1D\n",
    "from tensorflow.keras.optimizers import Adam\n",
    "\n",
    "print(tf.__version__)"
   ]
  },
  {
   "cell_type": "code",
   "execution_count": 57,
   "metadata": {
    "id": "g1pwRULo1EIV"
   },
   "outputs": [],
   "source": [
    "import pandas as pd\n",
    "import numpy as np\n",
    "import seaborn as sns \n",
    "import matplotlib.pyplot as plt\n",
    "from sklearn.model_selection import train_test_split\n",
    "from sklearn.preprocessing import StandardScaler"
   ]
  },
  {
   "cell_type": "code",
   "execution_count": 58,
   "metadata": {
    "id": "tMbCFxQQ1WIz"
   },
   "outputs": [],
   "source": [
    "data = pd.read_csv('drive/MyDrive/Colab Notebooks/DLAssignments/creditcard.csv')"
   ]
  },
  {
   "cell_type": "code",
   "execution_count": 59,
   "metadata": {
    "colab": {
     "base_uri": "https://localhost:8080/",
     "height": 224
    },
    "id": "q-Ke9QK01bVs",
    "outputId": "c013cba5-72ed-49ca-ecf7-bd006d6a69a1"
   },
   "outputs": [
    {
     "data": {
      "text/html": [
       "<div>\n",
       "<style scoped>\n",
       "    .dataframe tbody tr th:only-of-type {\n",
       "        vertical-align: middle;\n",
       "    }\n",
       "\n",
       "    .dataframe tbody tr th {\n",
       "        vertical-align: top;\n",
       "    }\n",
       "\n",
       "    .dataframe thead th {\n",
       "        text-align: right;\n",
       "    }\n",
       "</style>\n",
       "<table border=\"1\" class=\"dataframe\">\n",
       "  <thead>\n",
       "    <tr style=\"text-align: right;\">\n",
       "      <th></th>\n",
       "      <th>Time</th>\n",
       "      <th>V1</th>\n",
       "      <th>V2</th>\n",
       "      <th>V3</th>\n",
       "      <th>V4</th>\n",
       "      <th>V5</th>\n",
       "      <th>V6</th>\n",
       "      <th>V7</th>\n",
       "      <th>V8</th>\n",
       "      <th>V9</th>\n",
       "      <th>V10</th>\n",
       "      <th>V11</th>\n",
       "      <th>V12</th>\n",
       "      <th>V13</th>\n",
       "      <th>V14</th>\n",
       "      <th>V15</th>\n",
       "      <th>V16</th>\n",
       "      <th>V17</th>\n",
       "      <th>V18</th>\n",
       "      <th>V19</th>\n",
       "      <th>V20</th>\n",
       "      <th>V21</th>\n",
       "      <th>V22</th>\n",
       "      <th>V23</th>\n",
       "      <th>V24</th>\n",
       "      <th>V25</th>\n",
       "      <th>V26</th>\n",
       "      <th>V27</th>\n",
       "      <th>V28</th>\n",
       "      <th>Amount</th>\n",
       "      <th>Class</th>\n",
       "    </tr>\n",
       "  </thead>\n",
       "  <tbody>\n",
       "    <tr>\n",
       "      <th>0</th>\n",
       "      <td>0.0</td>\n",
       "      <td>-1.359807</td>\n",
       "      <td>-0.072781</td>\n",
       "      <td>2.536347</td>\n",
       "      <td>1.378155</td>\n",
       "      <td>-0.338321</td>\n",
       "      <td>0.462388</td>\n",
       "      <td>0.239599</td>\n",
       "      <td>0.098698</td>\n",
       "      <td>0.363787</td>\n",
       "      <td>0.090794</td>\n",
       "      <td>-0.551600</td>\n",
       "      <td>-0.617801</td>\n",
       "      <td>-0.991390</td>\n",
       "      <td>-0.311169</td>\n",
       "      <td>1.468177</td>\n",
       "      <td>-0.470401</td>\n",
       "      <td>0.207971</td>\n",
       "      <td>0.025791</td>\n",
       "      <td>0.403993</td>\n",
       "      <td>0.251412</td>\n",
       "      <td>-0.018307</td>\n",
       "      <td>0.277838</td>\n",
       "      <td>-0.110474</td>\n",
       "      <td>0.066928</td>\n",
       "      <td>0.128539</td>\n",
       "      <td>-0.189115</td>\n",
       "      <td>0.133558</td>\n",
       "      <td>-0.021053</td>\n",
       "      <td>149.62</td>\n",
       "      <td>0</td>\n",
       "    </tr>\n",
       "    <tr>\n",
       "      <th>1</th>\n",
       "      <td>0.0</td>\n",
       "      <td>1.191857</td>\n",
       "      <td>0.266151</td>\n",
       "      <td>0.166480</td>\n",
       "      <td>0.448154</td>\n",
       "      <td>0.060018</td>\n",
       "      <td>-0.082361</td>\n",
       "      <td>-0.078803</td>\n",
       "      <td>0.085102</td>\n",
       "      <td>-0.255425</td>\n",
       "      <td>-0.166974</td>\n",
       "      <td>1.612727</td>\n",
       "      <td>1.065235</td>\n",
       "      <td>0.489095</td>\n",
       "      <td>-0.143772</td>\n",
       "      <td>0.635558</td>\n",
       "      <td>0.463917</td>\n",
       "      <td>-0.114805</td>\n",
       "      <td>-0.183361</td>\n",
       "      <td>-0.145783</td>\n",
       "      <td>-0.069083</td>\n",
       "      <td>-0.225775</td>\n",
       "      <td>-0.638672</td>\n",
       "      <td>0.101288</td>\n",
       "      <td>-0.339846</td>\n",
       "      <td>0.167170</td>\n",
       "      <td>0.125895</td>\n",
       "      <td>-0.008983</td>\n",
       "      <td>0.014724</td>\n",
       "      <td>2.69</td>\n",
       "      <td>0</td>\n",
       "    </tr>\n",
       "    <tr>\n",
       "      <th>2</th>\n",
       "      <td>1.0</td>\n",
       "      <td>-1.358354</td>\n",
       "      <td>-1.340163</td>\n",
       "      <td>1.773209</td>\n",
       "      <td>0.379780</td>\n",
       "      <td>-0.503198</td>\n",
       "      <td>1.800499</td>\n",
       "      <td>0.791461</td>\n",
       "      <td>0.247676</td>\n",
       "      <td>-1.514654</td>\n",
       "      <td>0.207643</td>\n",
       "      <td>0.624501</td>\n",
       "      <td>0.066084</td>\n",
       "      <td>0.717293</td>\n",
       "      <td>-0.165946</td>\n",
       "      <td>2.345865</td>\n",
       "      <td>-2.890083</td>\n",
       "      <td>1.109969</td>\n",
       "      <td>-0.121359</td>\n",
       "      <td>-2.261857</td>\n",
       "      <td>0.524980</td>\n",
       "      <td>0.247998</td>\n",
       "      <td>0.771679</td>\n",
       "      <td>0.909412</td>\n",
       "      <td>-0.689281</td>\n",
       "      <td>-0.327642</td>\n",
       "      <td>-0.139097</td>\n",
       "      <td>-0.055353</td>\n",
       "      <td>-0.059752</td>\n",
       "      <td>378.66</td>\n",
       "      <td>0</td>\n",
       "    </tr>\n",
       "    <tr>\n",
       "      <th>3</th>\n",
       "      <td>1.0</td>\n",
       "      <td>-0.966272</td>\n",
       "      <td>-0.185226</td>\n",
       "      <td>1.792993</td>\n",
       "      <td>-0.863291</td>\n",
       "      <td>-0.010309</td>\n",
       "      <td>1.247203</td>\n",
       "      <td>0.237609</td>\n",
       "      <td>0.377436</td>\n",
       "      <td>-1.387024</td>\n",
       "      <td>-0.054952</td>\n",
       "      <td>-0.226487</td>\n",
       "      <td>0.178228</td>\n",
       "      <td>0.507757</td>\n",
       "      <td>-0.287924</td>\n",
       "      <td>-0.631418</td>\n",
       "      <td>-1.059647</td>\n",
       "      <td>-0.684093</td>\n",
       "      <td>1.965775</td>\n",
       "      <td>-1.232622</td>\n",
       "      <td>-0.208038</td>\n",
       "      <td>-0.108300</td>\n",
       "      <td>0.005274</td>\n",
       "      <td>-0.190321</td>\n",
       "      <td>-1.175575</td>\n",
       "      <td>0.647376</td>\n",
       "      <td>-0.221929</td>\n",
       "      <td>0.062723</td>\n",
       "      <td>0.061458</td>\n",
       "      <td>123.50</td>\n",
       "      <td>0</td>\n",
       "    </tr>\n",
       "    <tr>\n",
       "      <th>4</th>\n",
       "      <td>2.0</td>\n",
       "      <td>-1.158233</td>\n",
       "      <td>0.877737</td>\n",
       "      <td>1.548718</td>\n",
       "      <td>0.403034</td>\n",
       "      <td>-0.407193</td>\n",
       "      <td>0.095921</td>\n",
       "      <td>0.592941</td>\n",
       "      <td>-0.270533</td>\n",
       "      <td>0.817739</td>\n",
       "      <td>0.753074</td>\n",
       "      <td>-0.822843</td>\n",
       "      <td>0.538196</td>\n",
       "      <td>1.345852</td>\n",
       "      <td>-1.119670</td>\n",
       "      <td>0.175121</td>\n",
       "      <td>-0.451449</td>\n",
       "      <td>-0.237033</td>\n",
       "      <td>-0.038195</td>\n",
       "      <td>0.803487</td>\n",
       "      <td>0.408542</td>\n",
       "      <td>-0.009431</td>\n",
       "      <td>0.798278</td>\n",
       "      <td>-0.137458</td>\n",
       "      <td>0.141267</td>\n",
       "      <td>-0.206010</td>\n",
       "      <td>0.502292</td>\n",
       "      <td>0.219422</td>\n",
       "      <td>0.215153</td>\n",
       "      <td>69.99</td>\n",
       "      <td>0</td>\n",
       "    </tr>\n",
       "  </tbody>\n",
       "</table>\n",
       "</div>"
      ],
      "text/plain": [
       "   Time        V1        V2        V3  ...       V27       V28  Amount  Class\n",
       "0   0.0 -1.359807 -0.072781  2.536347  ...  0.133558 -0.021053  149.62      0\n",
       "1   0.0  1.191857  0.266151  0.166480  ... -0.008983  0.014724    2.69      0\n",
       "2   1.0 -1.358354 -1.340163  1.773209  ... -0.055353 -0.059752  378.66      0\n",
       "3   1.0 -0.966272 -0.185226  1.792993  ...  0.062723  0.061458  123.50      0\n",
       "4   2.0 -1.158233  0.877737  1.548718  ...  0.219422  0.215153   69.99      0\n",
       "\n",
       "[5 rows x 31 columns]"
      ]
     },
     "execution_count": 59,
     "metadata": {
      "tags": []
     },
     "output_type": "execute_result"
    }
   ],
   "source": [
    "data.head()"
   ]
  },
  {
   "cell_type": "code",
   "execution_count": 60,
   "metadata": {
    "colab": {
     "base_uri": "https://localhost:8080/"
    },
    "id": "h4BrBH6h2dgt",
    "outputId": "c6c9bf5c-b2de-4522-8342-3fd6e5a2e8ed"
   },
   "outputs": [
    {
     "data": {
      "text/plain": [
       "(284807, 31)"
      ]
     },
     "execution_count": 60,
     "metadata": {
      "tags": []
     },
     "output_type": "execute_result"
    }
   ],
   "source": [
    "data.shape"
   ]
  },
  {
   "cell_type": "code",
   "execution_count": 61,
   "metadata": {
    "colab": {
     "base_uri": "https://localhost:8080/"
    },
    "id": "4d-oZKzS2h90",
    "outputId": "454b523a-e1f6-4a28-9c03-27efe4eeabff"
   },
   "outputs": [
    {
     "data": {
      "text/plain": [
       "Time      0\n",
       "V1        0\n",
       "V2        0\n",
       "V3        0\n",
       "V4        0\n",
       "V5        0\n",
       "V6        0\n",
       "V7        0\n",
       "V8        0\n",
       "V9        0\n",
       "V10       0\n",
       "V11       0\n",
       "V12       0\n",
       "V13       0\n",
       "V14       0\n",
       "V15       0\n",
       "V16       0\n",
       "V17       0\n",
       "V18       0\n",
       "V19       0\n",
       "V20       0\n",
       "V21       0\n",
       "V22       0\n",
       "V23       0\n",
       "V24       0\n",
       "V25       0\n",
       "V26       0\n",
       "V27       0\n",
       "V28       0\n",
       "Amount    0\n",
       "Class     0\n",
       "dtype: int64"
      ]
     },
     "execution_count": 61,
     "metadata": {
      "tags": []
     },
     "output_type": "execute_result"
    }
   ],
   "source": [
    "data.isnull().sum()"
   ]
  },
  {
   "cell_type": "code",
   "execution_count": 62,
   "metadata": {
    "colab": {
     "base_uri": "https://localhost:8080/"
    },
    "id": "LNY2V3F_2nCF",
    "outputId": "d3db503a-8689-4a17-b126-15f06b289720"
   },
   "outputs": [
    {
     "name": "stdout",
     "output_type": "stream",
     "text": [
      "<class 'pandas.core.frame.DataFrame'>\n",
      "RangeIndex: 284807 entries, 0 to 284806\n",
      "Data columns (total 31 columns):\n",
      " #   Column  Non-Null Count   Dtype  \n",
      "---  ------  --------------   -----  \n",
      " 0   Time    284807 non-null  float64\n",
      " 1   V1      284807 non-null  float64\n",
      " 2   V2      284807 non-null  float64\n",
      " 3   V3      284807 non-null  float64\n",
      " 4   V4      284807 non-null  float64\n",
      " 5   V5      284807 non-null  float64\n",
      " 6   V6      284807 non-null  float64\n",
      " 7   V7      284807 non-null  float64\n",
      " 8   V8      284807 non-null  float64\n",
      " 9   V9      284807 non-null  float64\n",
      " 10  V10     284807 non-null  float64\n",
      " 11  V11     284807 non-null  float64\n",
      " 12  V12     284807 non-null  float64\n",
      " 13  V13     284807 non-null  float64\n",
      " 14  V14     284807 non-null  float64\n",
      " 15  V15     284807 non-null  float64\n",
      " 16  V16     284807 non-null  float64\n",
      " 17  V17     284807 non-null  float64\n",
      " 18  V18     284807 non-null  float64\n",
      " 19  V19     284807 non-null  float64\n",
      " 20  V20     284807 non-null  float64\n",
      " 21  V21     284807 non-null  float64\n",
      " 22  V22     284807 non-null  float64\n",
      " 23  V23     284807 non-null  float64\n",
      " 24  V24     284807 non-null  float64\n",
      " 25  V25     284807 non-null  float64\n",
      " 26  V26     284807 non-null  float64\n",
      " 27  V27     284807 non-null  float64\n",
      " 28  V28     284807 non-null  float64\n",
      " 29  Amount  284807 non-null  float64\n",
      " 30  Class   284807 non-null  int64  \n",
      "dtypes: float64(30), int64(1)\n",
      "memory usage: 67.4 MB\n"
     ]
    }
   ],
   "source": [
    "data.info()"
   ]
  },
  {
   "cell_type": "code",
   "execution_count": 63,
   "metadata": {
    "colab": {
     "base_uri": "https://localhost:8080/"
    },
    "id": "jpdFVD7o2swd",
    "outputId": "b6007e69-a532-4432-ae8c-989b395b7ec2"
   },
   "outputs": [
    {
     "data": {
      "text/plain": [
       "0    284315\n",
       "1       492\n",
       "Name: Class, dtype: int64"
      ]
     },
     "execution_count": 63,
     "metadata": {
      "tags": []
     },
     "output_type": "execute_result"
    }
   ],
   "source": [
    "data['Class'].value_counts()"
   ]
  },
  {
   "cell_type": "markdown",
   "metadata": {
    "id": "Qngvp3_q24x0"
   },
   "source": [
    "**As we can see in the output of the above cell. The data seems to be highly biased/ imbalanced. We Need to do some preprocessing to balance this**"
   ]
  },
  {
   "cell_type": "code",
   "execution_count": 64,
   "metadata": {
    "id": "F2ICQ4yT223k"
   },
   "outputs": [],
   "source": [
    "non_fraud = data[data['Class'] == 0]\n",
    "fraud = data[data['Class'] == 1]"
   ]
  },
  {
   "cell_type": "code",
   "execution_count": 65,
   "metadata": {
    "colab": {
     "base_uri": "https://localhost:8080/"
    },
    "id": "XwboXN013Yvd",
    "outputId": "9fd68e37-73c4-4b46-9d04-759155598d78"
   },
   "outputs": [
    {
     "data": {
      "text/plain": [
       "((284315, 31), (492, 31))"
      ]
     },
     "execution_count": 65,
     "metadata": {
      "tags": []
     },
     "output_type": "execute_result"
    }
   ],
   "source": [
    "non_fraud.shape, fraud.shape"
   ]
  },
  {
   "cell_type": "markdown",
   "metadata": {
    "id": "lhlCl4wM3ge8"
   },
   "source": [
    "Now, we need to select just 492 records from the non_fraud sub dataset to make the data balance. This selection should be random"
   ]
  },
  {
   "cell_type": "code",
   "execution_count": 66,
   "metadata": {
    "colab": {
     "base_uri": "https://localhost:8080/"
    },
    "id": "DGjHRGRP3cxs",
    "outputId": "29c554c7-7072-4e03-b453-7b28c5b791f1"
   },
   "outputs": [
    {
     "data": {
      "text/plain": [
       "(492, 31)"
      ]
     },
     "execution_count": 66,
     "metadata": {
      "tags": []
     },
     "output_type": "execute_result"
    }
   ],
   "source": [
    "non_fraud = non_fraud.sample(fraud.shape[0])\n",
    "non_fraud.shape"
   ]
  },
  {
   "cell_type": "markdown",
   "metadata": {
    "id": "3DFv_Zrn3_n0"
   },
   "source": [
    "**Merge fraud and non_fraud datasets**"
   ]
  },
  {
   "cell_type": "code",
   "execution_count": 67,
   "metadata": {
    "colab": {
     "base_uri": "https://localhost:8080/",
     "height": 224
    },
    "id": "fmS3ZYjQ37z1",
    "outputId": "ec467f40-2b4b-427b-8b58-9842a9001ef5"
   },
   "outputs": [
    {
     "data": {
      "text/html": [
       "<div>\n",
       "<style scoped>\n",
       "    .dataframe tbody tr th:only-of-type {\n",
       "        vertical-align: middle;\n",
       "    }\n",
       "\n",
       "    .dataframe tbody tr th {\n",
       "        vertical-align: top;\n",
       "    }\n",
       "\n",
       "    .dataframe thead th {\n",
       "        text-align: right;\n",
       "    }\n",
       "</style>\n",
       "<table border=\"1\" class=\"dataframe\">\n",
       "  <thead>\n",
       "    <tr style=\"text-align: right;\">\n",
       "      <th></th>\n",
       "      <th>Time</th>\n",
       "      <th>V1</th>\n",
       "      <th>V2</th>\n",
       "      <th>V3</th>\n",
       "      <th>V4</th>\n",
       "      <th>V5</th>\n",
       "      <th>V6</th>\n",
       "      <th>V7</th>\n",
       "      <th>V8</th>\n",
       "      <th>V9</th>\n",
       "      <th>V10</th>\n",
       "      <th>V11</th>\n",
       "      <th>V12</th>\n",
       "      <th>V13</th>\n",
       "      <th>V14</th>\n",
       "      <th>V15</th>\n",
       "      <th>V16</th>\n",
       "      <th>V17</th>\n",
       "      <th>V18</th>\n",
       "      <th>V19</th>\n",
       "      <th>V20</th>\n",
       "      <th>V21</th>\n",
       "      <th>V22</th>\n",
       "      <th>V23</th>\n",
       "      <th>V24</th>\n",
       "      <th>V25</th>\n",
       "      <th>V26</th>\n",
       "      <th>V27</th>\n",
       "      <th>V28</th>\n",
       "      <th>Amount</th>\n",
       "      <th>Class</th>\n",
       "    </tr>\n",
       "  </thead>\n",
       "  <tbody>\n",
       "    <tr>\n",
       "      <th>0</th>\n",
       "      <td>406.0</td>\n",
       "      <td>-2.312227</td>\n",
       "      <td>1.951992</td>\n",
       "      <td>-1.609851</td>\n",
       "      <td>3.997906</td>\n",
       "      <td>-0.522188</td>\n",
       "      <td>-1.426545</td>\n",
       "      <td>-2.537387</td>\n",
       "      <td>1.391657</td>\n",
       "      <td>-2.770089</td>\n",
       "      <td>-2.772272</td>\n",
       "      <td>3.202033</td>\n",
       "      <td>-2.899907</td>\n",
       "      <td>-0.595222</td>\n",
       "      <td>-4.289254</td>\n",
       "      <td>0.389724</td>\n",
       "      <td>-1.140747</td>\n",
       "      <td>-2.830056</td>\n",
       "      <td>-0.016822</td>\n",
       "      <td>0.416956</td>\n",
       "      <td>0.126911</td>\n",
       "      <td>0.517232</td>\n",
       "      <td>-0.035049</td>\n",
       "      <td>-0.465211</td>\n",
       "      <td>0.320198</td>\n",
       "      <td>0.044519</td>\n",
       "      <td>0.177840</td>\n",
       "      <td>0.261145</td>\n",
       "      <td>-0.143276</td>\n",
       "      <td>0.00</td>\n",
       "      <td>1</td>\n",
       "    </tr>\n",
       "    <tr>\n",
       "      <th>1</th>\n",
       "      <td>472.0</td>\n",
       "      <td>-3.043541</td>\n",
       "      <td>-3.157307</td>\n",
       "      <td>1.088463</td>\n",
       "      <td>2.288644</td>\n",
       "      <td>1.359805</td>\n",
       "      <td>-1.064823</td>\n",
       "      <td>0.325574</td>\n",
       "      <td>-0.067794</td>\n",
       "      <td>-0.270953</td>\n",
       "      <td>-0.838587</td>\n",
       "      <td>-0.414575</td>\n",
       "      <td>-0.503141</td>\n",
       "      <td>0.676502</td>\n",
       "      <td>-1.692029</td>\n",
       "      <td>2.000635</td>\n",
       "      <td>0.666780</td>\n",
       "      <td>0.599717</td>\n",
       "      <td>1.725321</td>\n",
       "      <td>0.283345</td>\n",
       "      <td>2.102339</td>\n",
       "      <td>0.661696</td>\n",
       "      <td>0.435477</td>\n",
       "      <td>1.375966</td>\n",
       "      <td>-0.293803</td>\n",
       "      <td>0.279798</td>\n",
       "      <td>-0.145362</td>\n",
       "      <td>-0.252773</td>\n",
       "      <td>0.035764</td>\n",
       "      <td>529.00</td>\n",
       "      <td>1</td>\n",
       "    </tr>\n",
       "    <tr>\n",
       "      <th>2</th>\n",
       "      <td>4462.0</td>\n",
       "      <td>-2.303350</td>\n",
       "      <td>1.759247</td>\n",
       "      <td>-0.359745</td>\n",
       "      <td>2.330243</td>\n",
       "      <td>-0.821628</td>\n",
       "      <td>-0.075788</td>\n",
       "      <td>0.562320</td>\n",
       "      <td>-0.399147</td>\n",
       "      <td>-0.238253</td>\n",
       "      <td>-1.525412</td>\n",
       "      <td>2.032912</td>\n",
       "      <td>-6.560124</td>\n",
       "      <td>0.022937</td>\n",
       "      <td>-1.470102</td>\n",
       "      <td>-0.698826</td>\n",
       "      <td>-2.282194</td>\n",
       "      <td>-4.781831</td>\n",
       "      <td>-2.615665</td>\n",
       "      <td>-1.334441</td>\n",
       "      <td>-0.430022</td>\n",
       "      <td>-0.294166</td>\n",
       "      <td>-0.932391</td>\n",
       "      <td>0.172726</td>\n",
       "      <td>-0.087330</td>\n",
       "      <td>-0.156114</td>\n",
       "      <td>-0.542628</td>\n",
       "      <td>0.039566</td>\n",
       "      <td>-0.153029</td>\n",
       "      <td>239.93</td>\n",
       "      <td>1</td>\n",
       "    </tr>\n",
       "    <tr>\n",
       "      <th>3</th>\n",
       "      <td>6986.0</td>\n",
       "      <td>-4.397974</td>\n",
       "      <td>1.358367</td>\n",
       "      <td>-2.592844</td>\n",
       "      <td>2.679787</td>\n",
       "      <td>-1.128131</td>\n",
       "      <td>-1.706536</td>\n",
       "      <td>-3.496197</td>\n",
       "      <td>-0.248778</td>\n",
       "      <td>-0.247768</td>\n",
       "      <td>-4.801637</td>\n",
       "      <td>4.895844</td>\n",
       "      <td>-10.912819</td>\n",
       "      <td>0.184372</td>\n",
       "      <td>-6.771097</td>\n",
       "      <td>-0.007326</td>\n",
       "      <td>-7.358083</td>\n",
       "      <td>-12.598419</td>\n",
       "      <td>-5.131549</td>\n",
       "      <td>0.308334</td>\n",
       "      <td>-0.171608</td>\n",
       "      <td>0.573574</td>\n",
       "      <td>0.176968</td>\n",
       "      <td>-0.436207</td>\n",
       "      <td>-0.053502</td>\n",
       "      <td>0.252405</td>\n",
       "      <td>-0.657488</td>\n",
       "      <td>-0.827136</td>\n",
       "      <td>0.849573</td>\n",
       "      <td>59.00</td>\n",
       "      <td>1</td>\n",
       "    </tr>\n",
       "    <tr>\n",
       "      <th>4</th>\n",
       "      <td>7519.0</td>\n",
       "      <td>1.234235</td>\n",
       "      <td>3.019740</td>\n",
       "      <td>-4.304597</td>\n",
       "      <td>4.732795</td>\n",
       "      <td>3.624201</td>\n",
       "      <td>-1.357746</td>\n",
       "      <td>1.713445</td>\n",
       "      <td>-0.496358</td>\n",
       "      <td>-1.282858</td>\n",
       "      <td>-2.447469</td>\n",
       "      <td>2.101344</td>\n",
       "      <td>-4.609628</td>\n",
       "      <td>1.464378</td>\n",
       "      <td>-6.079337</td>\n",
       "      <td>-0.339237</td>\n",
       "      <td>2.581851</td>\n",
       "      <td>6.739384</td>\n",
       "      <td>3.042493</td>\n",
       "      <td>-2.721853</td>\n",
       "      <td>0.009061</td>\n",
       "      <td>-0.379068</td>\n",
       "      <td>-0.704181</td>\n",
       "      <td>-0.656805</td>\n",
       "      <td>-1.632653</td>\n",
       "      <td>1.488901</td>\n",
       "      <td>0.566797</td>\n",
       "      <td>-0.010016</td>\n",
       "      <td>0.146793</td>\n",
       "      <td>1.00</td>\n",
       "      <td>1</td>\n",
       "    </tr>\n",
       "  </tbody>\n",
       "</table>\n",
       "</div>"
      ],
      "text/plain": [
       "     Time        V1        V2        V3  ...       V27       V28  Amount  Class\n",
       "0   406.0 -2.312227  1.951992 -1.609851  ...  0.261145 -0.143276    0.00      1\n",
       "1   472.0 -3.043541 -3.157307  1.088463  ... -0.252773  0.035764  529.00      1\n",
       "2  4462.0 -2.303350  1.759247 -0.359745  ...  0.039566 -0.153029  239.93      1\n",
       "3  6986.0 -4.397974  1.358367 -2.592844  ... -0.827136  0.849573   59.00      1\n",
       "4  7519.0  1.234235  3.019740 -4.304597  ... -0.010016  0.146793    1.00      1\n",
       "\n",
       "[5 rows x 31 columns]"
      ]
     },
     "execution_count": 67,
     "metadata": {
      "tags": []
     },
     "output_type": "execute_result"
    }
   ],
   "source": [
    "final_data = fraud.append(non_fraud, ignore_index=True)\n",
    "final_data.head()"
   ]
  },
  {
   "cell_type": "code",
   "execution_count": 68,
   "metadata": {
    "colab": {
     "base_uri": "https://localhost:8080/"
    },
    "id": "8pHVIKLy4Mrs",
    "outputId": "dfc01dc4-618f-4a4c-f081-37d4ac65746b"
   },
   "outputs": [
    {
     "data": {
      "text/plain": [
       "1    492\n",
       "0    492\n",
       "Name: Class, dtype: int64"
      ]
     },
     "execution_count": 68,
     "metadata": {
      "tags": []
     },
     "output_type": "execute_result"
    }
   ],
   "source": [
    "final_data['Class'].value_counts()"
   ]
  },
  {
   "cell_type": "code",
   "execution_count": 69,
   "metadata": {
    "id": "MEJf9yav4VoM"
   },
   "outputs": [],
   "source": [
    "X = final_data.drop('Class', axis=1)\n",
    "y = final_data['Class']"
   ]
  },
  {
   "cell_type": "code",
   "execution_count": 70,
   "metadata": {
    "id": "205D5ZEP4nK8"
   },
   "outputs": [],
   "source": [
    "X_train, X_test, y_train, y_test = train_test_split(X, y, test_size=0.3, random_state=0, stratify=y)"
   ]
  },
  {
   "cell_type": "code",
   "execution_count": 71,
   "metadata": {
    "colab": {
     "base_uri": "https://localhost:8080/"
    },
    "id": "7HUNkQtd45uc",
    "outputId": "10c05089-bb06-445b-b26b-c379e89cd916"
   },
   "outputs": [
    {
     "data": {
      "text/plain": [
       "((688, 30), (296, 30))"
      ]
     },
     "execution_count": 71,
     "metadata": {
      "tags": []
     },
     "output_type": "execute_result"
    }
   ],
   "source": [
    "X_train.shape, X_test.shape"
   ]
  },
  {
   "cell_type": "code",
   "execution_count": 72,
   "metadata": {
    "colab": {
     "base_uri": "https://localhost:8080/",
     "height": 224
    },
    "id": "5fweu1LH48gs",
    "outputId": "178cfef2-5f0f-452d-b681-ad1bdb4059da"
   },
   "outputs": [
    {
     "data": {
      "text/html": [
       "<div>\n",
       "<style scoped>\n",
       "    .dataframe tbody tr th:only-of-type {\n",
       "        vertical-align: middle;\n",
       "    }\n",
       "\n",
       "    .dataframe tbody tr th {\n",
       "        vertical-align: top;\n",
       "    }\n",
       "\n",
       "    .dataframe thead th {\n",
       "        text-align: right;\n",
       "    }\n",
       "</style>\n",
       "<table border=\"1\" class=\"dataframe\">\n",
       "  <thead>\n",
       "    <tr style=\"text-align: right;\">\n",
       "      <th></th>\n",
       "      <th>Time</th>\n",
       "      <th>V1</th>\n",
       "      <th>V2</th>\n",
       "      <th>V3</th>\n",
       "      <th>V4</th>\n",
       "      <th>V5</th>\n",
       "      <th>V6</th>\n",
       "      <th>V7</th>\n",
       "      <th>V8</th>\n",
       "      <th>V9</th>\n",
       "      <th>V10</th>\n",
       "      <th>V11</th>\n",
       "      <th>V12</th>\n",
       "      <th>V13</th>\n",
       "      <th>V14</th>\n",
       "      <th>V15</th>\n",
       "      <th>V16</th>\n",
       "      <th>V17</th>\n",
       "      <th>V18</th>\n",
       "      <th>V19</th>\n",
       "      <th>V20</th>\n",
       "      <th>V21</th>\n",
       "      <th>V22</th>\n",
       "      <th>V23</th>\n",
       "      <th>V24</th>\n",
       "      <th>V25</th>\n",
       "      <th>V26</th>\n",
       "      <th>V27</th>\n",
       "      <th>V28</th>\n",
       "      <th>Amount</th>\n",
       "    </tr>\n",
       "  </thead>\n",
       "  <tbody>\n",
       "    <tr>\n",
       "      <th>633</th>\n",
       "      <td>71153.0</td>\n",
       "      <td>1.178421</td>\n",
       "      <td>0.097704</td>\n",
       "      <td>0.843158</td>\n",
       "      <td>0.933214</td>\n",
       "      <td>-0.557207</td>\n",
       "      <td>-0.124595</td>\n",
       "      <td>-0.424380</td>\n",
       "      <td>0.152519</td>\n",
       "      <td>0.187785</td>\n",
       "      <td>0.141033</td>\n",
       "      <td>0.936804</td>\n",
       "      <td>0.549527</td>\n",
       "      <td>-0.416562</td>\n",
       "      <td>0.389825</td>\n",
       "      <td>0.673916</td>\n",
       "      <td>0.807707</td>\n",
       "      <td>-0.955205</td>\n",
       "      <td>0.712850</td>\n",
       "      <td>-0.077923</td>\n",
       "      <td>-0.137054</td>\n",
       "      <td>-0.034281</td>\n",
       "      <td>-0.140675</td>\n",
       "      <td>0.011964</td>\n",
       "      <td>-0.030653</td>\n",
       "      <td>0.316615</td>\n",
       "      <td>-0.507538</td>\n",
       "      <td>0.041550</td>\n",
       "      <td>0.022638</td>\n",
       "      <td>5.00</td>\n",
       "    </tr>\n",
       "    <tr>\n",
       "      <th>662</th>\n",
       "      <td>56777.0</td>\n",
       "      <td>0.592021</td>\n",
       "      <td>-1.172548</td>\n",
       "      <td>0.257883</td>\n",
       "      <td>0.178266</td>\n",
       "      <td>-0.979193</td>\n",
       "      <td>-0.289943</td>\n",
       "      <td>0.040906</td>\n",
       "      <td>-0.030118</td>\n",
       "      <td>0.136930</td>\n",
       "      <td>-0.148876</td>\n",
       "      <td>1.143183</td>\n",
       "      <td>0.718877</td>\n",
       "      <td>0.004359</td>\n",
       "      <td>0.372096</td>\n",
       "      <td>0.662465</td>\n",
       "      <td>0.883428</td>\n",
       "      <td>-0.769626</td>\n",
       "      <td>0.268523</td>\n",
       "      <td>0.269436</td>\n",
       "      <td>0.635838</td>\n",
       "      <td>0.037554</td>\n",
       "      <td>-0.714077</td>\n",
       "      <td>-0.192710</td>\n",
       "      <td>0.054624</td>\n",
       "      <td>-0.105651</td>\n",
       "      <td>0.756190</td>\n",
       "      <td>-0.131491</td>\n",
       "      <td>0.059580</td>\n",
       "      <td>341.93</td>\n",
       "    </tr>\n",
       "    <tr>\n",
       "      <th>510</th>\n",
       "      <td>144216.0</td>\n",
       "      <td>2.007038</td>\n",
       "      <td>0.138809</td>\n",
       "      <td>-1.618975</td>\n",
       "      <td>1.408011</td>\n",
       "      <td>0.344100</td>\n",
       "      <td>-1.164957</td>\n",
       "      <td>0.604552</td>\n",
       "      <td>-0.377059</td>\n",
       "      <td>0.321666</td>\n",
       "      <td>0.276536</td>\n",
       "      <td>-1.108579</td>\n",
       "      <td>-0.100816</td>\n",
       "      <td>-1.061421</td>\n",
       "      <td>0.695533</td>\n",
       "      <td>-0.429518</td>\n",
       "      <td>-0.700465</td>\n",
       "      <td>-0.080574</td>\n",
       "      <td>-0.560205</td>\n",
       "      <td>-0.221739</td>\n",
       "      <td>-0.330908</td>\n",
       "      <td>0.047345</td>\n",
       "      <td>0.303012</td>\n",
       "      <td>-0.001823</td>\n",
       "      <td>-0.029015</td>\n",
       "      <td>0.426990</td>\n",
       "      <td>-0.487952</td>\n",
       "      <td>-0.021945</td>\n",
       "      <td>-0.061844</td>\n",
       "      <td>19.49</td>\n",
       "    </tr>\n",
       "    <tr>\n",
       "      <th>68</th>\n",
       "      <td>26961.0</td>\n",
       "      <td>-23.237920</td>\n",
       "      <td>13.487386</td>\n",
       "      <td>-25.188773</td>\n",
       "      <td>6.261733</td>\n",
       "      <td>-17.345188</td>\n",
       "      <td>-4.534989</td>\n",
       "      <td>-17.100492</td>\n",
       "      <td>15.374630</td>\n",
       "      <td>-3.845567</td>\n",
       "      <td>-8.511767</td>\n",
       "      <td>5.138547</td>\n",
       "      <td>-7.220020</td>\n",
       "      <td>0.615793</td>\n",
       "      <td>-7.327222</td>\n",
       "      <td>-0.038632</td>\n",
       "      <td>-6.331515</td>\n",
       "      <td>-12.688858</td>\n",
       "      <td>-4.847382</td>\n",
       "      <td>1.020536</td>\n",
       "      <td>1.630787</td>\n",
       "      <td>1.769708</td>\n",
       "      <td>-1.691973</td>\n",
       "      <td>-1.045673</td>\n",
       "      <td>0.143386</td>\n",
       "      <td>1.611577</td>\n",
       "      <td>-0.221576</td>\n",
       "      <td>1.481233</td>\n",
       "      <td>0.438125</td>\n",
       "      <td>99.99</td>\n",
       "    </tr>\n",
       "    <tr>\n",
       "      <th>294</th>\n",
       "      <td>93823.0</td>\n",
       "      <td>-3.821939</td>\n",
       "      <td>5.667247</td>\n",
       "      <td>-9.244963</td>\n",
       "      <td>8.246147</td>\n",
       "      <td>-4.368286</td>\n",
       "      <td>-3.450735</td>\n",
       "      <td>-8.427378</td>\n",
       "      <td>2.305609</td>\n",
       "      <td>-5.338079</td>\n",
       "      <td>-12.011161</td>\n",
       "      <td>8.621255</td>\n",
       "      <td>-18.683715</td>\n",
       "      <td>-0.962073</td>\n",
       "      <td>-15.297656</td>\n",
       "      <td>-2.414132</td>\n",
       "      <td>-12.105602</td>\n",
       "      <td>-21.338195</td>\n",
       "      <td>-8.045436</td>\n",
       "      <td>0.156015</td>\n",
       "      <td>1.115247</td>\n",
       "      <td>1.990520</td>\n",
       "      <td>0.083353</td>\n",
       "      <td>-0.062264</td>\n",
       "      <td>0.390188</td>\n",
       "      <td>0.329884</td>\n",
       "      <td>0.098017</td>\n",
       "      <td>1.869570</td>\n",
       "      <td>1.000850</td>\n",
       "      <td>75.86</td>\n",
       "    </tr>\n",
       "  </tbody>\n",
       "</table>\n",
       "</div>"
      ],
      "text/plain": [
       "         Time         V1         V2  ...       V27       V28  Amount\n",
       "633   71153.0   1.178421   0.097704  ...  0.041550  0.022638    5.00\n",
       "662   56777.0   0.592021  -1.172548  ... -0.131491  0.059580  341.93\n",
       "510  144216.0   2.007038   0.138809  ... -0.021945 -0.061844   19.49\n",
       "68    26961.0 -23.237920  13.487386  ...  1.481233  0.438125   99.99\n",
       "294   93823.0  -3.821939   5.667247  ...  1.869570  1.000850   75.86\n",
       "\n",
       "[5 rows x 30 columns]"
      ]
     },
     "execution_count": 72,
     "metadata": {
      "tags": []
     },
     "output_type": "execute_result"
    }
   ],
   "source": [
    "X_train.head()"
   ]
  },
  {
   "cell_type": "markdown",
   "metadata": {
    "id": "9VBTun0s5CWM"
   },
   "source": [
    "**Scale the data**"
   ]
  },
  {
   "cell_type": "code",
   "execution_count": 73,
   "metadata": {
    "id": "h_gV2RsM5Bb0"
   },
   "outputs": [],
   "source": [
    "scaler = StandardScaler()\n",
    "X_train = scaler.fit_transform(X_train)\n",
    "# We will not only transform the X_test because it avoids overfitting \n",
    "# This means we are transforming X_test based on the findings of X_train\n",
    "X_test = scaler.transform(X_test) "
   ]
  },
  {
   "cell_type": "code",
   "execution_count": 74,
   "metadata": {
    "id": "Xz6xlwsz5gs7"
   },
   "outputs": [],
   "source": [
    "# Convert y_train and y_test to numpy arrays\n",
    "y_train = y_train.to_numpy()"
   ]
  },
  {
   "cell_type": "code",
   "execution_count": 75,
   "metadata": {
    "id": "Ic16VBt255Ej"
   },
   "outputs": [],
   "source": [
    "y_test = y_test.to_numpy()"
   ]
  },
  {
   "cell_type": "markdown",
   "metadata": {
    "id": "DqHPWp6h7oFr"
   },
   "source": [
    "Since convolutional neural network take a 3 dimensional input during training. So, that's why we need to convert our train and test sets to a 3D array "
   ]
  },
  {
   "cell_type": "code",
   "execution_count": 76,
   "metadata": {
    "colab": {
     "base_uri": "https://localhost:8080/"
    },
    "id": "BjgtiRzE59jr",
    "outputId": "ab5f5b75-fe29-4af3-cae1-089323ea14ff"
   },
   "outputs": [
    {
     "data": {
      "text/plain": [
       "(688, 30)"
      ]
     },
     "execution_count": 76,
     "metadata": {
      "tags": []
     },
     "output_type": "execute_result"
    }
   ],
   "source": [
    "X_train.shape"
   ]
  },
  {
   "cell_type": "code",
   "execution_count": 77,
   "metadata": {
    "id": "v2c7FC9e8Agk"
   },
   "outputs": [],
   "source": [
    "X_train = X_train.reshape(X_train.shape[0], X_train.shape[1], 1)\n",
    "X_test = X_test.reshape(X_test.shape[0], X_test.shape[1], 1)"
   ]
  },
  {
   "cell_type": "code",
   "execution_count": 78,
   "metadata": {
    "colab": {
     "base_uri": "https://localhost:8080/"
    },
    "id": "cB8MDK3X8Ps7",
    "outputId": "f8a748d9-2d4c-41d7-e469-b75c6b93c33e"
   },
   "outputs": [
    {
     "data": {
      "text/plain": [
       "((688, 30, 1), (296, 30, 1))"
      ]
     },
     "execution_count": 78,
     "metadata": {
      "tags": []
     },
     "output_type": "execute_result"
    }
   ],
   "source": [
    "X_train.shape, X_test.shape"
   ]
  },
  {
   "cell_type": "markdown",
   "metadata": {
    "id": "jvBTiTcl8Zmb"
   },
   "source": [
    "**Build CNN Model**"
   ]
  },
  {
   "cell_type": "code",
   "execution_count": 79,
   "metadata": {
    "id": "8N-btW__8R57"
   },
   "outputs": [],
   "source": [
    "epochs = 20\n",
    "model = Sequential()\n",
    "model.add(Conv1D(32, 2, activation='relu', input_shape=X_train[0].shape))\n",
    "model.add(BatchNormalization())\n",
    "model.add(Dropout(0.2)) # dropout 20% of neurons\n",
    "\n",
    "model.add(Conv1D(64, 2, activation='relu'))\n",
    "model.add(BatchNormalization())\n",
    "model.add(Dropout(0.5))\n",
    "\n",
    "model.add(Flatten()) # Flatten our 3D data into a vector\n",
    "model.add(Dense(64, activation='relu'))\n",
    "model.add(Dropout(0.5))\n",
    "\n",
    "model.add(Dense(1, activation='sigmoid'))"
   ]
  },
  {
   "cell_type": "code",
   "execution_count": 80,
   "metadata": {
    "colab": {
     "base_uri": "https://localhost:8080/"
    },
    "id": "XtFEydbQ-k3M",
    "outputId": "a6a1b058-2497-4d90-f72a-3f1c453b4bd5"
   },
   "outputs": [
    {
     "name": "stdout",
     "output_type": "stream",
     "text": [
      "Model: \"sequential_6\"\n",
      "_________________________________________________________________\n",
      "Layer (type)                 Output Shape              Param #   \n",
      "=================================================================\n",
      "conv1d_12 (Conv1D)           (None, 29, 32)            96        \n",
      "_________________________________________________________________\n",
      "batch_normalization_12 (Batc (None, 29, 32)            128       \n",
      "_________________________________________________________________\n",
      "dropout_18 (Dropout)         (None, 29, 32)            0         \n",
      "_________________________________________________________________\n",
      "conv1d_13 (Conv1D)           (None, 28, 64)            4160      \n",
      "_________________________________________________________________\n",
      "batch_normalization_13 (Batc (None, 28, 64)            256       \n",
      "_________________________________________________________________\n",
      "dropout_19 (Dropout)         (None, 28, 64)            0         \n",
      "_________________________________________________________________\n",
      "flatten_6 (Flatten)          (None, 1792)              0         \n",
      "_________________________________________________________________\n",
      "dense_12 (Dense)             (None, 64)                114752    \n",
      "_________________________________________________________________\n",
      "dropout_20 (Dropout)         (None, 64)                0         \n",
      "_________________________________________________________________\n",
      "dense_13 (Dense)             (None, 1)                 65        \n",
      "=================================================================\n",
      "Total params: 119,457\n",
      "Trainable params: 119,265\n",
      "Non-trainable params: 192\n",
      "_________________________________________________________________\n"
     ]
    }
   ],
   "source": [
    "model.summary()"
   ]
  },
  {
   "cell_type": "code",
   "execution_count": 81,
   "metadata": {
    "id": "iljdnrwdAKjj"
   },
   "outputs": [],
   "source": [
    "model.compile(optimizer=Adam(lr=0.0001), loss = 'binary_crossentropy', metrics=['accuracy'])"
   ]
  },
  {
   "cell_type": "code",
   "execution_count": 82,
   "metadata": {
    "colab": {
     "base_uri": "https://localhost:8080/"
    },
    "id": "9TdHF1gNAvcc",
    "outputId": "0cf7d03c-d811-48e7-e922-95fc20235d07"
   },
   "outputs": [
    {
     "name": "stdout",
     "output_type": "stream",
     "text": [
      "Epoch 1/20\n",
      "22/22 [==============================] - 1s 23ms/step - loss: 1.3305 - accuracy: 0.5744 - val_loss: 0.6250 - val_accuracy: 0.7534\n",
      "Epoch 2/20\n",
      "22/22 [==============================] - 0s 12ms/step - loss: 0.6512 - accuracy: 0.7493 - val_loss: 0.5916 - val_accuracy: 0.7331\n",
      "Epoch 3/20\n",
      "22/22 [==============================] - 0s 11ms/step - loss: 0.5098 - accuracy: 0.8015 - val_loss: 0.5626 - val_accuracy: 0.7432\n",
      "Epoch 4/20\n",
      "22/22 [==============================] - 0s 12ms/step - loss: 0.4402 - accuracy: 0.8521 - val_loss: 0.5397 - val_accuracy: 0.8209\n",
      "Epoch 5/20\n",
      "22/22 [==============================] - 0s 12ms/step - loss: 0.4720 - accuracy: 0.8471 - val_loss: 0.5082 - val_accuracy: 0.8446\n",
      "Epoch 6/20\n",
      "22/22 [==============================] - 0s 11ms/step - loss: 0.4162 - accuracy: 0.8509 - val_loss: 0.4788 - val_accuracy: 0.8649\n",
      "Epoch 7/20\n",
      "22/22 [==============================] - 0s 11ms/step - loss: 0.3995 - accuracy: 0.8806 - val_loss: 0.4471 - val_accuracy: 0.8851\n",
      "Epoch 8/20\n",
      "22/22 [==============================] - 0s 11ms/step - loss: 0.3462 - accuracy: 0.8952 - val_loss: 0.4165 - val_accuracy: 0.8851\n",
      "Epoch 9/20\n",
      "22/22 [==============================] - 0s 11ms/step - loss: 0.2083 - accuracy: 0.9316 - val_loss: 0.3911 - val_accuracy: 0.8851\n",
      "Epoch 10/20\n",
      "22/22 [==============================] - 0s 11ms/step - loss: 0.2664 - accuracy: 0.8912 - val_loss: 0.3606 - val_accuracy: 0.8885\n",
      "Epoch 11/20\n",
      "22/22 [==============================] - 0s 11ms/step - loss: 0.2367 - accuracy: 0.9034 - val_loss: 0.3363 - val_accuracy: 0.8885\n",
      "Epoch 12/20\n",
      "22/22 [==============================] - 0s 11ms/step - loss: 0.2312 - accuracy: 0.9107 - val_loss: 0.3157 - val_accuracy: 0.8919\n",
      "Epoch 13/20\n",
      "22/22 [==============================] - 0s 12ms/step - loss: 0.2648 - accuracy: 0.9140 - val_loss: 0.2997 - val_accuracy: 0.8953\n",
      "Epoch 14/20\n",
      "22/22 [==============================] - 0s 12ms/step - loss: 0.2303 - accuracy: 0.9347 - val_loss: 0.2854 - val_accuracy: 0.8919\n",
      "Epoch 15/20\n",
      "22/22 [==============================] - 0s 11ms/step - loss: 0.2304 - accuracy: 0.9220 - val_loss: 0.2663 - val_accuracy: 0.8919\n",
      "Epoch 16/20\n",
      "22/22 [==============================] - 0s 12ms/step - loss: 0.2361 - accuracy: 0.9223 - val_loss: 0.2539 - val_accuracy: 0.8986\n",
      "Epoch 17/20\n",
      "22/22 [==============================] - 0s 11ms/step - loss: 0.1901 - accuracy: 0.9325 - val_loss: 0.2431 - val_accuracy: 0.8986\n",
      "Epoch 18/20\n",
      "22/22 [==============================] - 0s 11ms/step - loss: 0.2131 - accuracy: 0.9209 - val_loss: 0.2421 - val_accuracy: 0.8986\n",
      "Epoch 19/20\n",
      "22/22 [==============================] - 0s 11ms/step - loss: 0.2145 - accuracy: 0.9187 - val_loss: 0.2320 - val_accuracy: 0.9020\n",
      "Epoch 20/20\n",
      "22/22 [==============================] - 0s 11ms/step - loss: 0.2356 - accuracy: 0.8852 - val_loss: 0.2270 - val_accuracy: 0.9020\n"
     ]
    }
   ],
   "source": [
    "history = model.fit(X_train, y_train, epochs=epochs, validation_data=(X_test, y_test), verbose=1)"
   ]
  },
  {
   "cell_type": "code",
   "execution_count": 83,
   "metadata": {
    "id": "kNiwFRFbA_HC"
   },
   "outputs": [],
   "source": [
    "def plot_learningCurve(history, epoch):\n",
    "  # plot training  validation accuracy values\n",
    "  epoch_range = range(1, epoch+1)\n",
    "  plt.plot(epoch_range, history.history['accuracy'])\n",
    "  plt.plot(epoch_range, history.history['val_accuracy'])\n",
    "  plt.title('Model Accuracy')\n",
    "  plt.xlabel('Epoch')\n",
    "  plt.ylabel('Accuracy')\n",
    "  plt.legend(['Train', 'Val'], loc = 'upper left')\n",
    "  plt.show()\n",
    "\n",
    "  # plot training & valiation loss values\n",
    "  plt.plot(epoch_range, history.history['loss'])\n",
    "  plt.plot(epoch_range, history.history['val_loss'])\n",
    "  plt.title('Model Loss')\n",
    "  plt.xlabel('Epoch')\n",
    "  plt.ylabel('Loss')\n",
    "  plt.legend(['Train', 'Val'], loc = 'upper left')\n",
    "  plt.show()"
   ]
  },
  {
   "cell_type": "code",
   "execution_count": 84,
   "metadata": {
    "colab": {
     "base_uri": "https://localhost:8080/",
     "height": 573
    },
    "id": "DObdaTTDCpb0",
    "outputId": "8ee00a57-0014-444e-ae01-fd0db24b615c"
   },
   "outputs": [
    {
     "data": {
      "image/png": "[encoded data removed]",
      "text/plain": [
       "<Figure size 432x288 with 1 Axes>"
      ]
     },
     "metadata": {
      "needs_background": "light",
      "tags": []
     },
     "output_type": "display_data"
    },
    {
     "data": {
      "image/png": "[encoded data removed]",
      "text/plain": [
       "<Figure size 432x288 with 1 Axes>"
      ]
     },
     "metadata": {
      "needs_background": "light",
      "tags": []
     },
     "output_type": "display_data"
    }
   ],
   "source": [
    "plot_learningCurve(history, epochs)"
   ]
  },
  {
   "cell_type": "markdown",
   "metadata": {
    "id": "h0JCtWu8C9uj"
   },
   "source": [
    "**Adding MaxPool**"
   ]
  },
  {
   "cell_type": "code",
   "execution_count": 85,
   "metadata": {
    "id": "D61bec6fufev"
   },
   "outputs": [],
   "source": [
    "epochs = 100\n",
    "model = Sequential()\n",
    "model.add(Conv1D(10, 2, activation='relu', input_shape=X_train[0].shape))\n",
    "model.add(BatchNormalization())\n",
    "model.add(MaxPool1D(2))\n",
    "model.add(Dropout(0.2)) # dropout 20% of neurons\n",
    "\n",
    "model.add(Conv1D(8, 2, activation='relu'))\n",
    "model.add(BatchNormalization())\n",
    "model.add(MaxPool1D(2))\n",
    "model.add(Dropout(0.5))\n",
    "\n",
    "model.add(Flatten()) # Flatten our 3D data into a vector\n",
    "model.add(Dense(6, activation='relu'))\n",
    "model.add(Dropout(0.5))\n",
    "\n",
    "model.add(Dense(1, activation='sigmoid'))"
   ]
  },
  {
   "cell_type": "code",
   "execution_count": 86,
   "metadata": {
    "colab": {
     "base_uri": "https://localhost:8080/",
     "height": 1000
    },
    "id": "z3HnXkw_uhjD",
    "outputId": "e3ab1731-45cf-43a4-8a05-7f59854689d1"
   },
   "outputs": [
    {
     "name": "stdout",
     "output_type": "stream",
     "text": [
      "Epoch 1/100\n",
      "22/22 [==============================] - 1s 16ms/step - loss: 1.3924 - accuracy: 0.3988 - val_loss: 0.7612 - val_accuracy: 0.3716\n",
      "Epoch 2/100\n",
      "22/22 [==============================] - 0s 6ms/step - loss: 1.3413 - accuracy: 0.4141 - val_loss: 0.7426 - val_accuracy: 0.3851\n",
      "Epoch 3/100\n",
      "22/22 [==============================] - 0s 6ms/step - loss: 1.4764 - accuracy: 0.4412 - val_loss: 0.7308 - val_accuracy: 0.3716\n",
      "Epoch 4/100\n",
      "22/22 [==============================] - 0s 6ms/step - loss: 1.4142 - accuracy: 0.4452 - val_loss: 0.7269 - val_accuracy: 0.3953\n",
      "Epoch 5/100\n",
      "22/22 [==============================] - 0s 6ms/step - loss: 1.4711 - accuracy: 0.4499 - val_loss: 0.7268 - val_accuracy: 0.4020\n",
      "Epoch 6/100\n",
      "22/22 [==============================] - 0s 6ms/step - loss: 1.1771 - accuracy: 0.4890 - val_loss: 0.7296 - val_accuracy: 0.4223\n",
      "Epoch 7/100\n",
      "22/22 [==============================] - 0s 6ms/step - loss: 1.3837 - accuracy: 0.4005 - val_loss: 0.7327 - val_accuracy: 0.4291\n",
      "Epoch 8/100\n",
      "22/22 [==============================] - 0s 6ms/step - loss: 1.3116 - accuracy: 0.4594 - val_loss: 0.7350 - val_accuracy: 0.4155\n",
      "Epoch 9/100\n",
      "22/22 [==============================] - 0s 6ms/step - loss: 1.4213 - accuracy: 0.4511 - val_loss: 0.7381 - val_accuracy: 0.4223\n",
      "Epoch 10/100\n",
      "22/22 [==============================] - 0s 6ms/step - loss: 1.2746 - accuracy: 0.5012 - val_loss: 0.7410 - val_accuracy: 0.3953\n",
      "Epoch 11/100\n",
      "22/22 [==============================] - 0s 6ms/step - loss: 1.1631 - accuracy: 0.4818 - val_loss: 0.7438 - val_accuracy: 0.4088\n",
      "Epoch 12/100\n",
      "22/22 [==============================] - 0s 6ms/step - loss: 1.3151 - accuracy: 0.4490 - val_loss: 0.7446 - val_accuracy: 0.4020\n",
      "Epoch 13/100\n",
      "22/22 [==============================] - 0s 6ms/step - loss: 1.3598 - accuracy: 0.4967 - val_loss: 0.7438 - val_accuracy: 0.4155\n",
      "Epoch 14/100\n",
      "22/22 [==============================] - 0s 6ms/step - loss: 1.1462 - accuracy: 0.5205 - val_loss: 0.7434 - val_accuracy: 0.4324\n",
      "Epoch 15/100\n",
      "22/22 [==============================] - 0s 6ms/step - loss: 1.1749 - accuracy: 0.4589 - val_loss: 0.7423 - val_accuracy: 0.4561\n",
      "Epoch 16/100\n",
      "22/22 [==============================] - 0s 6ms/step - loss: 1.1375 - accuracy: 0.4863 - val_loss: 0.7404 - val_accuracy: 0.4459\n",
      "Epoch 17/100\n",
      "22/22 [==============================] - 0s 6ms/step - loss: 1.2640 - accuracy: 0.4562 - val_loss: 0.7363 - val_accuracy: 0.4628\n",
      "Epoch 18/100\n",
      "22/22 [==============================] - 0s 6ms/step - loss: 1.2838 - accuracy: 0.4687 - val_loss: 0.7320 - val_accuracy: 0.4595\n",
      "Epoch 19/100\n",
      "22/22 [==============================] - 0s 6ms/step - loss: 1.0640 - accuracy: 0.5061 - val_loss: 0.7260 - val_accuracy: 0.4662\n",
      "Epoch 20/100\n",
      "22/22 [==============================] - 0s 6ms/step - loss: 1.2360 - accuracy: 0.5200 - val_loss: 0.7202 - val_accuracy: 0.4865\n",
      "Epoch 21/100\n",
      "22/22 [==============================] - 0s 6ms/step - loss: 1.1873 - accuracy: 0.4823 - val_loss: 0.7141 - val_accuracy: 0.5169\n",
      "Epoch 22/100\n",
      "22/22 [==============================] - 0s 6ms/step - loss: 0.9588 - accuracy: 0.5363 - val_loss: 0.7070 - val_accuracy: 0.5304\n",
      "Epoch 23/100\n",
      "22/22 [==============================] - 0s 6ms/step - loss: 1.1572 - accuracy: 0.4892 - val_loss: 0.7006 - val_accuracy: 0.5372\n",
      "Epoch 24/100\n",
      "22/22 [==============================] - 0s 6ms/step - loss: 1.0208 - accuracy: 0.5030 - val_loss: 0.6944 - val_accuracy: 0.5507\n",
      "Epoch 25/100\n",
      "22/22 [==============================] - 0s 6ms/step - loss: 0.9853 - accuracy: 0.4795 - val_loss: 0.6881 - val_accuracy: 0.5473\n",
      "Epoch 26/100\n",
      "22/22 [==============================] - 0s 6ms/step - loss: 1.0443 - accuracy: 0.5171 - val_loss: 0.6812 - val_accuracy: 0.5608\n",
      "Epoch 27/100\n",
      "22/22 [==============================] - 0s 6ms/step - loss: 1.0265 - accuracy: 0.5109 - val_loss: 0.6760 - val_accuracy: 0.5676\n",
      "Epoch 28/100\n",
      "22/22 [==============================] - 0s 6ms/step - loss: 0.9695 - accuracy: 0.5043 - val_loss: 0.6701 - val_accuracy: 0.5878\n",
      "Epoch 29/100\n",
      "22/22 [==============================] - 0s 6ms/step - loss: 1.0431 - accuracy: 0.5142 - val_loss: 0.6641 - val_accuracy: 0.5946\n",
      "Epoch 30/100\n",
      "22/22 [==============================] - 0s 6ms/step - loss: 0.9320 - accuracy: 0.5028 - val_loss: 0.6588 - val_accuracy: 0.6014\n",
      "Epoch 31/100\n",
      "22/22 [==============================] - 0s 6ms/step - loss: 0.9602 - accuracy: 0.5120 - val_loss: 0.6531 - val_accuracy: 0.6047\n",
      "Epoch 32/100\n",
      "22/22 [==============================] - 0s 7ms/step - loss: 1.0542 - accuracy: 0.5065 - val_loss: 0.6476 - val_accuracy: 0.6149\n",
      "Epoch 33/100\n",
      "22/22 [==============================] - 0s 7ms/step - loss: 0.8467 - accuracy: 0.5960 - val_loss: 0.6441 - val_accuracy: 0.6250\n",
      "Epoch 34/100\n",
      "22/22 [==============================] - 0s 6ms/step - loss: 0.9599 - accuracy: 0.5168 - val_loss: 0.6393 - val_accuracy: 0.6351\n",
      "Epoch 35/100\n",
      "22/22 [==============================] - 0s 6ms/step - loss: 0.8797 - accuracy: 0.5490 - val_loss: 0.6342 - val_accuracy: 0.6453\n",
      "Epoch 36/100\n",
      "22/22 [==============================] - 0s 6ms/step - loss: 0.8530 - accuracy: 0.5565 - val_loss: 0.6294 - val_accuracy: 0.6453\n",
      "Epoch 37/100\n",
      "22/22 [==============================] - 0s 6ms/step - loss: 0.9033 - accuracy: 0.5596 - val_loss: 0.6246 - val_accuracy: 0.6486\n",
      "Epoch 38/100\n",
      "22/22 [==============================] - 0s 6ms/step - loss: 0.8455 - accuracy: 0.5891 - val_loss: 0.6210 - val_accuracy: 0.6520\n",
      "Epoch 39/100\n",
      "22/22 [==============================] - 0s 6ms/step - loss: 0.8828 - accuracy: 0.5471 - val_loss: 0.6176 - val_accuracy: 0.6486\n",
      "Epoch 40/100\n",
      "22/22 [==============================] - 0s 6ms/step - loss: 0.8561 - accuracy: 0.5599 - val_loss: 0.6142 - val_accuracy: 0.6520\n",
      "Epoch 41/100\n",
      "22/22 [==============================] - 0s 6ms/step - loss: 0.8511 - accuracy: 0.5430 - val_loss: 0.6104 - val_accuracy: 0.6588\n",
      "Epoch 42/100\n",
      "22/22 [==============================] - 0s 6ms/step - loss: 0.8539 - accuracy: 0.5534 - val_loss: 0.6069 - val_accuracy: 0.6655\n",
      "Epoch 43/100\n",
      "22/22 [==============================] - 0s 5ms/step - loss: 0.8806 - accuracy: 0.5532 - val_loss: 0.6036 - val_accuracy: 0.6723\n",
      "Epoch 44/100\n",
      "22/22 [==============================] - 0s 6ms/step - loss: 0.7610 - accuracy: 0.5655 - val_loss: 0.6009 - val_accuracy: 0.6791\n",
      "Epoch 45/100\n",
      "22/22 [==============================] - 0s 6ms/step - loss: 0.8424 - accuracy: 0.5817 - val_loss: 0.5980 - val_accuracy: 0.6858\n",
      "Epoch 46/100\n",
      "22/22 [==============================] - 0s 6ms/step - loss: 0.8345 - accuracy: 0.5639 - val_loss: 0.5943 - val_accuracy: 0.6993\n",
      "Epoch 47/100\n",
      "22/22 [==============================] - 0s 6ms/step - loss: 0.8183 - accuracy: 0.6024 - val_loss: 0.5907 - val_accuracy: 0.7027\n",
      "Epoch 48/100\n",
      "22/22 [==============================] - 0s 6ms/step - loss: 0.7575 - accuracy: 0.5801 - val_loss: 0.5879 - val_accuracy: 0.7027\n",
      "Epoch 49/100\n",
      "22/22 [==============================] - 0s 6ms/step - loss: 0.7850 - accuracy: 0.5688 - val_loss: 0.5856 - val_accuracy: 0.7027\n",
      "Epoch 50/100\n",
      "22/22 [==============================] - 0s 6ms/step - loss: 0.7482 - accuracy: 0.5822 - val_loss: 0.5822 - val_accuracy: 0.7061\n",
      "Epoch 51/100\n",
      "22/22 [==============================] - 0s 6ms/step - loss: 0.7639 - accuracy: 0.6124 - val_loss: 0.5799 - val_accuracy: 0.7196\n",
      "Epoch 52/100\n",
      "22/22 [==============================] - 0s 5ms/step - loss: 0.7757 - accuracy: 0.5617 - val_loss: 0.5765 - val_accuracy: 0.7230\n",
      "Epoch 53/100\n",
      "22/22 [==============================] - 0s 6ms/step - loss: 0.7701 - accuracy: 0.6090 - val_loss: 0.5737 - val_accuracy: 0.7331\n",
      "Epoch 54/100\n",
      "22/22 [==============================] - 0s 6ms/step - loss: 0.7395 - accuracy: 0.6059 - val_loss: 0.5711 - val_accuracy: 0.7432\n",
      "Epoch 55/100\n",
      "22/22 [==============================] - 0s 6ms/step - loss: 0.7740 - accuracy: 0.5856 - val_loss: 0.5684 - val_accuracy: 0.7432\n",
      "Epoch 56/100\n",
      "22/22 [==============================] - 0s 6ms/step - loss: 0.6843 - accuracy: 0.6156 - val_loss: 0.5660 - val_accuracy: 0.7399\n",
      "Epoch 57/100\n",
      "22/22 [==============================] - 0s 6ms/step - loss: 0.7528 - accuracy: 0.5975 - val_loss: 0.5641 - val_accuracy: 0.7399\n",
      "Epoch 58/100\n",
      "22/22 [==============================] - 0s 6ms/step - loss: 0.6863 - accuracy: 0.6182 - val_loss: 0.5618 - val_accuracy: 0.7500\n",
      "Epoch 59/100\n",
      "22/22 [==============================] - 0s 6ms/step - loss: 0.7741 - accuracy: 0.6084 - val_loss: 0.5590 - val_accuracy: 0.7534\n",
      "Epoch 60/100\n",
      "22/22 [==============================] - 0s 6ms/step - loss: 0.6764 - accuracy: 0.6280 - val_loss: 0.5569 - val_accuracy: 0.7601\n",
      "Epoch 61/100\n",
      "22/22 [==============================] - 0s 6ms/step - loss: 0.7413 - accuracy: 0.5940 - val_loss: 0.5549 - val_accuracy: 0.7635\n",
      "Epoch 62/100\n",
      "22/22 [==============================] - 0s 6ms/step - loss: 0.7514 - accuracy: 0.6046 - val_loss: 0.5526 - val_accuracy: 0.7635\n",
      "Epoch 63/100\n",
      "22/22 [==============================] - 0s 6ms/step - loss: 0.6974 - accuracy: 0.6264 - val_loss: 0.5505 - val_accuracy: 0.7669\n",
      "Epoch 64/100\n",
      "22/22 [==============================] - 0s 7ms/step - loss: 0.7236 - accuracy: 0.6309 - val_loss: 0.5477 - val_accuracy: 0.7669\n",
      "Epoch 65/100\n",
      "22/22 [==============================] - 0s 6ms/step - loss: 0.6696 - accuracy: 0.6331 - val_loss: 0.5455 - val_accuracy: 0.7669\n",
      "Epoch 66/100\n",
      "22/22 [==============================] - 0s 6ms/step - loss: 0.7030 - accuracy: 0.6156 - val_loss: 0.5436 - val_accuracy: 0.7703\n",
      "Epoch 67/100\n",
      "22/22 [==============================] - 0s 6ms/step - loss: 0.6347 - accuracy: 0.6584 - val_loss: 0.5418 - val_accuracy: 0.7736\n",
      "Epoch 68/100\n",
      "22/22 [==============================] - 0s 6ms/step - loss: 0.6502 - accuracy: 0.6461 - val_loss: 0.5398 - val_accuracy: 0.7736\n",
      "Epoch 69/100\n",
      "22/22 [==============================] - 0s 7ms/step - loss: 0.7398 - accuracy: 0.5839 - val_loss: 0.5378 - val_accuracy: 0.7838\n",
      "Epoch 70/100\n",
      "22/22 [==============================] - 0s 6ms/step - loss: 0.7103 - accuracy: 0.6116 - val_loss: 0.5353 - val_accuracy: 0.7838\n",
      "Epoch 71/100\n",
      "22/22 [==============================] - 0s 6ms/step - loss: 0.6716 - accuracy: 0.6447 - val_loss: 0.5334 - val_accuracy: 0.7939\n",
      "Epoch 72/100\n",
      "22/22 [==============================] - 0s 6ms/step - loss: 0.6638 - accuracy: 0.6662 - val_loss: 0.5317 - val_accuracy: 0.8041\n",
      "Epoch 73/100\n",
      "22/22 [==============================] - 0s 6ms/step - loss: 0.7079 - accuracy: 0.6089 - val_loss: 0.5304 - val_accuracy: 0.8007\n",
      "Epoch 74/100\n",
      "22/22 [==============================] - 0s 6ms/step - loss: 0.6994 - accuracy: 0.6088 - val_loss: 0.5294 - val_accuracy: 0.8007\n",
      "Epoch 75/100\n",
      "22/22 [==============================] - 0s 6ms/step - loss: 0.6712 - accuracy: 0.6320 - val_loss: 0.5278 - val_accuracy: 0.8007\n",
      "Epoch 76/100\n",
      "22/22 [==============================] - 0s 7ms/step - loss: 0.6696 - accuracy: 0.6500 - val_loss: 0.5261 - val_accuracy: 0.8041\n",
      "Epoch 77/100\n",
      "22/22 [==============================] - 0s 7ms/step - loss: 0.6339 - accuracy: 0.6411 - val_loss: 0.5241 - val_accuracy: 0.8074\n",
      "Epoch 78/100\n",
      "22/22 [==============================] - 0s 7ms/step - loss: 0.6909 - accuracy: 0.6444 - val_loss: 0.5225 - val_accuracy: 0.8108\n",
      "Epoch 79/100\n",
      "22/22 [==============================] - 0s 6ms/step - loss: 0.6271 - accuracy: 0.6570 - val_loss: 0.5213 - val_accuracy: 0.8142\n",
      "Epoch 80/100\n",
      "22/22 [==============================] - 0s 6ms/step - loss: 0.6201 - accuracy: 0.6734 - val_loss: 0.5194 - val_accuracy: 0.8209\n",
      "Epoch 81/100\n",
      "22/22 [==============================] - 0s 6ms/step - loss: 0.6239 - accuracy: 0.6291 - val_loss: 0.5177 - val_accuracy: 0.8176\n",
      "Epoch 82/100\n",
      "22/22 [==============================] - 0s 6ms/step - loss: 0.6256 - accuracy: 0.6737 - val_loss: 0.5166 - val_accuracy: 0.8176\n",
      "Epoch 83/100\n",
      "22/22 [==============================] - 0s 6ms/step - loss: 0.6614 - accuracy: 0.6561 - val_loss: 0.5148 - val_accuracy: 0.8209\n",
      "Epoch 84/100\n",
      "22/22 [==============================] - 0s 6ms/step - loss: 0.6447 - accuracy: 0.6418 - val_loss: 0.5129 - val_accuracy: 0.8209\n",
      "Epoch 85/100\n",
      "22/22 [==============================] - 0s 6ms/step - loss: 0.6358 - accuracy: 0.6890 - val_loss: 0.5112 - val_accuracy: 0.8243\n",
      "Epoch 86/100\n",
      "22/22 [==============================] - 0s 6ms/step - loss: 0.5722 - accuracy: 0.7000 - val_loss: 0.5099 - val_accuracy: 0.8243\n",
      "Epoch 87/100\n",
      "22/22 [==============================] - 0s 6ms/step - loss: 0.6408 - accuracy: 0.6279 - val_loss: 0.5087 - val_accuracy: 0.8311\n",
      "Epoch 88/100\n",
      "22/22 [==============================] - 0s 6ms/step - loss: 0.6644 - accuracy: 0.6413 - val_loss: 0.5067 - val_accuracy: 0.8311\n",
      "Epoch 89/100\n",
      "22/22 [==============================] - 0s 6ms/step - loss: 0.6459 - accuracy: 0.6372 - val_loss: 0.5053 - val_accuracy: 0.8311\n",
      "Epoch 90/100\n",
      "22/22 [==============================] - 0s 6ms/step - loss: 0.6233 - accuracy: 0.6392 - val_loss: 0.5037 - val_accuracy: 0.8345\n",
      "Epoch 91/100\n",
      "22/22 [==============================] - 0s 6ms/step - loss: 0.5864 - accuracy: 0.6884 - val_loss: 0.5020 - val_accuracy: 0.8345\n",
      "Epoch 92/100\n",
      "22/22 [==============================] - 0s 6ms/step - loss: 0.5798 - accuracy: 0.6736 - val_loss: 0.5003 - val_accuracy: 0.8378\n",
      "Epoch 93/100\n",
      "22/22 [==============================] - 0s 6ms/step - loss: 0.6186 - accuracy: 0.6675 - val_loss: 0.4985 - val_accuracy: 0.8378\n",
      "Epoch 94/100\n",
      "22/22 [==============================] - 0s 6ms/step - loss: 0.6440 - accuracy: 0.6755 - val_loss: 0.4972 - val_accuracy: 0.8412\n",
      "Epoch 95/100\n",
      "22/22 [==============================] - 0s 6ms/step - loss: 0.5794 - accuracy: 0.6940 - val_loss: 0.4956 - val_accuracy: 0.8412\n",
      "Epoch 96/100\n",
      "22/22 [==============================] - 0s 7ms/step - loss: 0.6086 - accuracy: 0.6408 - val_loss: 0.4948 - val_accuracy: 0.8412\n",
      "Epoch 97/100\n",
      "22/22 [==============================] - 0s 6ms/step - loss: 0.6693 - accuracy: 0.6656 - val_loss: 0.4935 - val_accuracy: 0.8412\n",
      "Epoch 98/100\n",
      "22/22 [==============================] - 0s 6ms/step - loss: 0.6120 - accuracy: 0.6934 - val_loss: 0.4921 - val_accuracy: 0.8412\n",
      "Epoch 99/100\n",
      "22/22 [==============================] - 0s 6ms/step - loss: 0.6313 - accuracy: 0.6660 - val_loss: 0.4907 - val_accuracy: 0.8412\n",
      "Epoch 100/100\n",
      "22/22 [==============================] - 0s 6ms/step - loss: 0.6066 - accuracy: 0.6914 - val_loss: 0.4893 - val_accuracy: 0.8446\n"
     ]
    },
    {
     "data": {
      "image/png": "[encoded data removed]",
      "text/plain": [
       "<Figure size 432x288 with 1 Axes>"
      ]
     },
     "metadata": {
      "needs_background": "light",
      "tags": []
     },
     "output_type": "display_data"
    },
    {
     "data": {
      "image/png": "[encoded data removed]",
      "text/plain": [
       "<Figure size 432x288 with 1 Axes>"
      ]
     },
     "metadata": {
      "needs_background": "light",
      "tags": []
     },
     "output_type": "display_data"
    }
   ],
   "source": [
    "model.compile(optimizer=Adam(lr=0.0001), loss = 'binary_crossentropy', metrics=['accuracy'])\n",
    "history = model.fit(X_train, y_train, epochs=epochs, validation_data=(X_test, y_test), verbose=1)\n",
    "plot_learningCurve(history, epochs)"
   ]
  },
  {
   "cell_type": "code",
   "execution_count": 87,
   "metadata": {
    "id": "X4xvzJc9CtJy"
   },
   "outputs": [],
   "source": [
    "epochs = 50\n",
    "model = Sequential()\n",
    "model.add(Conv1D(32, 2, activation='relu', input_shape=X_train[0].shape))\n",
    "model.add(BatchNormalization())\n",
    "model.add(MaxPool1D(2))\n",
    "model.add(Dropout(0.2)) # dropout 20% of neurons\n",
    "\n",
    "model.add(Conv1D(64, 2, activation='relu'))\n",
    "model.add(BatchNormalization())\n",
    "model.add(MaxPool1D(2))\n",
    "model.add(Dropout(0.5))\n",
    "\n",
    "model.add(Flatten()) # Flatten our 3D data into a vector\n",
    "model.add(Dense(64, activation='relu'))\n",
    "model.add(Dropout(0.5))\n",
    "\n",
    "model.add(Dense(1, activation='sigmoid'))"
   ]
  },
  {
   "cell_type": "code",
   "execution_count": 88,
   "metadata": {
    "colab": {
     "base_uri": "https://localhost:8080/",
     "height": 1000
    },
    "id": "hcd9Dh4oDFRg",
    "outputId": "9ed87660-501c-4456-88c1-a62617ed847b"
   },
   "outputs": [
    {
     "name": "stdout",
     "output_type": "stream",
     "text": [
      "Epoch 1/50\n",
      "22/22 [==============================] - 2s 33ms/step - loss: 1.1105 - accuracy: 0.5723 - val_loss: 0.6618 - val_accuracy: 0.6926\n",
      "Epoch 2/50\n",
      "22/22 [==============================] - 0s 8ms/step - loss: 0.9525 - accuracy: 0.6406 - val_loss: 0.6455 - val_accuracy: 0.7230\n",
      "Epoch 3/50\n",
      "22/22 [==============================] - 0s 9ms/step - loss: 0.7916 - accuracy: 0.6904 - val_loss: 0.6285 - val_accuracy: 0.7331\n",
      "Epoch 4/50\n",
      "22/22 [==============================] - 0s 9ms/step - loss: 0.6819 - accuracy: 0.7225 - val_loss: 0.6077 - val_accuracy: 0.7230\n",
      "Epoch 5/50\n",
      "22/22 [==============================] - 0s 8ms/step - loss: 0.6083 - accuracy: 0.7465 - val_loss: 0.5871 - val_accuracy: 0.6993\n",
      "Epoch 6/50\n",
      "22/22 [==============================] - 0s 8ms/step - loss: 0.5443 - accuracy: 0.7671 - val_loss: 0.5674 - val_accuracy: 0.6993\n",
      "Epoch 7/50\n",
      "22/22 [==============================] - 0s 8ms/step - loss: 0.5312 - accuracy: 0.7878 - val_loss: 0.5471 - val_accuracy: 0.7061\n",
      "Epoch 8/50\n",
      "22/22 [==============================] - 0s 8ms/step - loss: 0.5477 - accuracy: 0.7666 - val_loss: 0.5255 - val_accuracy: 0.7264\n",
      "Epoch 9/50\n",
      "22/22 [==============================] - 0s 9ms/step - loss: 0.5207 - accuracy: 0.7992 - val_loss: 0.5033 - val_accuracy: 0.7534\n",
      "Epoch 10/50\n",
      "22/22 [==============================] - 0s 9ms/step - loss: 0.4235 - accuracy: 0.8365 - val_loss: 0.4803 - val_accuracy: 0.7703\n",
      "Epoch 11/50\n",
      "22/22 [==============================] - 0s 8ms/step - loss: 0.4379 - accuracy: 0.8333 - val_loss: 0.4578 - val_accuracy: 0.7872\n",
      "Epoch 12/50\n",
      "22/22 [==============================] - 0s 8ms/step - loss: 0.5244 - accuracy: 0.7900 - val_loss: 0.4338 - val_accuracy: 0.8176\n",
      "Epoch 13/50\n",
      "22/22 [==============================] - 0s 8ms/step - loss: 0.3540 - accuracy: 0.8537 - val_loss: 0.4117 - val_accuracy: 0.8277\n",
      "Epoch 14/50\n",
      "22/22 [==============================] - 0s 9ms/step - loss: 0.4139 - accuracy: 0.8334 - val_loss: 0.3906 - val_accuracy: 0.8311\n",
      "Epoch 15/50\n",
      "22/22 [==============================] - 0s 8ms/step - loss: 0.4303 - accuracy: 0.8395 - val_loss: 0.3735 - val_accuracy: 0.8378\n",
      "Epoch 16/50\n",
      "22/22 [==============================] - 0s 8ms/step - loss: 0.3843 - accuracy: 0.8536 - val_loss: 0.3568 - val_accuracy: 0.8581\n",
      "Epoch 17/50\n",
      "22/22 [==============================] - 0s 8ms/step - loss: 0.3813 - accuracy: 0.8516 - val_loss: 0.3420 - val_accuracy: 0.8682\n",
      "Epoch 18/50\n",
      "22/22 [==============================] - 0s 8ms/step - loss: 0.3415 - accuracy: 0.8707 - val_loss: 0.3313 - val_accuracy: 0.8682\n",
      "Epoch 19/50\n",
      "22/22 [==============================] - 0s 9ms/step - loss: 0.3855 - accuracy: 0.8619 - val_loss: 0.3237 - val_accuracy: 0.8716\n",
      "Epoch 20/50\n",
      "22/22 [==============================] - 0s 9ms/step - loss: 0.3457 - accuracy: 0.8778 - val_loss: 0.3154 - val_accuracy: 0.8784\n",
      "Epoch 21/50\n",
      "22/22 [==============================] - 0s 9ms/step - loss: 0.3620 - accuracy: 0.8570 - val_loss: 0.3103 - val_accuracy: 0.8784\n",
      "Epoch 22/50\n",
      "22/22 [==============================] - 0s 8ms/step - loss: 0.3493 - accuracy: 0.8845 - val_loss: 0.3076 - val_accuracy: 0.8851\n",
      "Epoch 23/50\n",
      "22/22 [==============================] - 0s 8ms/step - loss: 0.3318 - accuracy: 0.8806 - val_loss: 0.3018 - val_accuracy: 0.8885\n",
      "Epoch 24/50\n",
      "22/22 [==============================] - 0s 8ms/step - loss: 0.3185 - accuracy: 0.8850 - val_loss: 0.2991 - val_accuracy: 0.8885\n",
      "Epoch 25/50\n",
      "22/22 [==============================] - 0s 9ms/step - loss: 0.2948 - accuracy: 0.8842 - val_loss: 0.2942 - val_accuracy: 0.8885\n",
      "Epoch 26/50\n",
      "22/22 [==============================] - 0s 8ms/step - loss: 0.3095 - accuracy: 0.8811 - val_loss: 0.2933 - val_accuracy: 0.8919\n",
      "Epoch 27/50\n",
      "22/22 [==============================] - 0s 8ms/step - loss: 0.2755 - accuracy: 0.8993 - val_loss: 0.2900 - val_accuracy: 0.8919\n",
      "Epoch 28/50\n",
      "22/22 [==============================] - 0s 8ms/step - loss: 0.2889 - accuracy: 0.8899 - val_loss: 0.2896 - val_accuracy: 0.8919\n",
      "Epoch 29/50\n",
      "22/22 [==============================] - 0s 8ms/step - loss: 0.3112 - accuracy: 0.8881 - val_loss: 0.2867 - val_accuracy: 0.8919\n",
      "Epoch 30/50\n",
      "22/22 [==============================] - 0s 8ms/step - loss: 0.2679 - accuracy: 0.9133 - val_loss: 0.2852 - val_accuracy: 0.8919\n",
      "Epoch 31/50\n",
      "22/22 [==============================] - 0s 8ms/step - loss: 0.3503 - accuracy: 0.8814 - val_loss: 0.2832 - val_accuracy: 0.8953\n",
      "Epoch 32/50\n",
      "22/22 [==============================] - 0s 8ms/step - loss: 0.3624 - accuracy: 0.8618 - val_loss: 0.2797 - val_accuracy: 0.8953\n",
      "Epoch 33/50\n",
      "22/22 [==============================] - 0s 8ms/step - loss: 0.2808 - accuracy: 0.8955 - val_loss: 0.2781 - val_accuracy: 0.8953\n",
      "Epoch 34/50\n",
      "22/22 [==============================] - 0s 8ms/step - loss: 0.3297 - accuracy: 0.8832 - val_loss: 0.2787 - val_accuracy: 0.8953\n",
      "Epoch 35/50\n",
      "22/22 [==============================] - 0s 8ms/step - loss: 0.2708 - accuracy: 0.9086 - val_loss: 0.2791 - val_accuracy: 0.8953\n",
      "Epoch 36/50\n",
      "22/22 [==============================] - 0s 9ms/step - loss: 0.2417 - accuracy: 0.8980 - val_loss: 0.2785 - val_accuracy: 0.8953\n",
      "Epoch 37/50\n",
      "22/22 [==============================] - 0s 8ms/step - loss: 0.2738 - accuracy: 0.8958 - val_loss: 0.2761 - val_accuracy: 0.8986\n",
      "Epoch 38/50\n",
      "22/22 [==============================] - 0s 9ms/step - loss: 0.2959 - accuracy: 0.8892 - val_loss: 0.2759 - val_accuracy: 0.8986\n",
      "Epoch 39/50\n",
      "22/22 [==============================] - 0s 8ms/step - loss: 0.2246 - accuracy: 0.9132 - val_loss: 0.2736 - val_accuracy: 0.9020\n",
      "Epoch 40/50\n",
      "22/22 [==============================] - 0s 8ms/step - loss: 0.2747 - accuracy: 0.8891 - val_loss: 0.2732 - val_accuracy: 0.9054\n",
      "Epoch 41/50\n",
      "22/22 [==============================] - 0s 9ms/step - loss: 0.2718 - accuracy: 0.9011 - val_loss: 0.2746 - val_accuracy: 0.9054\n",
      "Epoch 42/50\n",
      "22/22 [==============================] - 0s 8ms/step - loss: 0.2790 - accuracy: 0.8936 - val_loss: 0.2721 - val_accuracy: 0.9054\n",
      "Epoch 43/50\n",
      "22/22 [==============================] - 0s 8ms/step - loss: 0.3136 - accuracy: 0.8931 - val_loss: 0.2723 - val_accuracy: 0.9088\n",
      "Epoch 44/50\n",
      "22/22 [==============================] - 0s 8ms/step - loss: 0.2170 - accuracy: 0.9252 - val_loss: 0.2723 - val_accuracy: 0.9088\n",
      "Epoch 45/50\n",
      "22/22 [==============================] - 0s 8ms/step - loss: 0.2303 - accuracy: 0.9177 - val_loss: 0.2709 - val_accuracy: 0.9088\n",
      "Epoch 46/50\n",
      "22/22 [==============================] - 0s 11ms/step - loss: 0.2708 - accuracy: 0.9081 - val_loss: 0.2713 - val_accuracy: 0.9088\n",
      "Epoch 47/50\n",
      "22/22 [==============================] - 0s 8ms/step - loss: 0.2428 - accuracy: 0.9099 - val_loss: 0.2694 - val_accuracy: 0.9088\n",
      "Epoch 48/50\n",
      "22/22 [==============================] - 0s 8ms/step - loss: 0.2283 - accuracy: 0.9160 - val_loss: 0.2669 - val_accuracy: 0.9088\n",
      "Epoch 49/50\n",
      "22/22 [==============================] - 0s 9ms/step - loss: 0.2580 - accuracy: 0.9184 - val_loss: 0.2652 - val_accuracy: 0.9088\n",
      "Epoch 50/50\n",
      "22/22 [==============================] - 0s 8ms/step - loss: 0.1942 - accuracy: 0.9239 - val_loss: 0.2673 - val_accuracy: 0.9088\n"
     ]
    },
    {
     "data": {
      "image/png": "[encoded data removed]",
      "text/plain": [
       "<Figure size 432x288 with 1 Axes>"
      ]
     },
     "metadata": {
      "needs_background": "light",
      "tags": []
     },
     "output_type": "display_data"
    },
    {
     "data": {
      "image/png": "[encoded data removed]",
      "text/plain": [
       "<Figure size 432x288 with 1 Axes>"
      ]
     },
     "metadata": {
      "needs_background": "light",
      "tags": []
     },
     "output_type": "display_data"
    }
   ],
   "source": [
    "model.compile(optimizer=Adam(lr=0.0001), loss = 'binary_crossentropy', metrics=['accuracy'])\n",
    "history = model.fit(X_train, y_train, epochs=epochs, validation_data=(X_test, y_test), verbose=1)\n",
    "plot_learningCurve(history, epochs)"
   ]
  },
  {
   "cell_type": "code",
   "execution_count": 89,
   "metadata": {
    "colab": {
     "base_uri": "https://localhost:8080/",
     "height": 1000
    },
    "id": "09k4FB5vDmj6",
    "outputId": "b8dbd452-3d9d-41b7-f00a-ec850166e78d"
   },
   "outputs": [
    {
     "name": "stdout",
     "output_type": "stream",
     "text": [
      "Epoch 1/50\n",
      "22/22 [==============================] - 1s 18ms/step - loss: 0.2481 - accuracy: 0.9044 - val_loss: 0.2709 - val_accuracy: 0.9088\n",
      "Epoch 2/50\n",
      "22/22 [==============================] - 0s 8ms/step - loss: 0.2487 - accuracy: 0.9029 - val_loss: 0.2686 - val_accuracy: 0.9088\n",
      "Epoch 3/50\n",
      "22/22 [==============================] - 0s 8ms/step - loss: 0.2359 - accuracy: 0.9117 - val_loss: 0.2694 - val_accuracy: 0.9088\n",
      "Epoch 4/50\n",
      "22/22 [==============================] - 0s 9ms/step - loss: 0.2739 - accuracy: 0.9124 - val_loss: 0.2650 - val_accuracy: 0.9088\n",
      "Epoch 5/50\n",
      "22/22 [==============================] - 0s 8ms/step - loss: 0.2287 - accuracy: 0.9210 - val_loss: 0.2649 - val_accuracy: 0.9088\n",
      "Epoch 6/50\n",
      "22/22 [==============================] - 0s 8ms/step - loss: 0.2195 - accuracy: 0.9162 - val_loss: 0.2625 - val_accuracy: 0.9088\n",
      "Epoch 7/50\n",
      "22/22 [==============================] - 0s 8ms/step - loss: 0.1836 - accuracy: 0.9292 - val_loss: 0.2626 - val_accuracy: 0.9088\n",
      "Epoch 8/50\n",
      "22/22 [==============================] - 0s 9ms/step - loss: 0.2420 - accuracy: 0.8906 - val_loss: 0.2655 - val_accuracy: 0.9088\n",
      "Epoch 9/50\n",
      "22/22 [==============================] - 0s 8ms/step - loss: 0.2227 - accuracy: 0.9123 - val_loss: 0.2649 - val_accuracy: 0.9088\n",
      "Epoch 10/50\n",
      "22/22 [==============================] - 0s 8ms/step - loss: 0.2338 - accuracy: 0.9283 - val_loss: 0.2629 - val_accuracy: 0.9088\n",
      "Epoch 11/50\n",
      "22/22 [==============================] - 0s 8ms/step - loss: 0.2057 - accuracy: 0.9129 - val_loss: 0.2629 - val_accuracy: 0.9088\n",
      "Epoch 12/50\n",
      "22/22 [==============================] - 0s 8ms/step - loss: 0.2216 - accuracy: 0.9128 - val_loss: 0.2614 - val_accuracy: 0.9088\n",
      "Epoch 13/50\n",
      "22/22 [==============================] - 0s 7ms/step - loss: 0.2540 - accuracy: 0.9095 - val_loss: 0.2579 - val_accuracy: 0.9054\n",
      "Epoch 14/50\n",
      "22/22 [==============================] - 0s 8ms/step - loss: 0.2348 - accuracy: 0.9070 - val_loss: 0.2583 - val_accuracy: 0.9088\n",
      "Epoch 15/50\n",
      "22/22 [==============================] - 0s 9ms/step - loss: 0.2186 - accuracy: 0.9162 - val_loss: 0.2578 - val_accuracy: 0.9020\n",
      "Epoch 16/50\n",
      "22/22 [==============================] - 0s 8ms/step - loss: 0.2265 - accuracy: 0.9203 - val_loss: 0.2575 - val_accuracy: 0.9054\n",
      "Epoch 17/50\n",
      "22/22 [==============================] - 0s 8ms/step - loss: 0.2251 - accuracy: 0.9198 - val_loss: 0.2571 - val_accuracy: 0.9088\n",
      "Epoch 18/50\n",
      "22/22 [==============================] - 0s 8ms/step - loss: 0.1451 - accuracy: 0.9486 - val_loss: 0.2576 - val_accuracy: 0.9088\n",
      "Epoch 19/50\n",
      "22/22 [==============================] - 0s 8ms/step - loss: 0.2029 - accuracy: 0.9238 - val_loss: 0.2561 - val_accuracy: 0.9054\n",
      "Epoch 20/50\n",
      "22/22 [==============================] - 0s 8ms/step - loss: 0.1722 - accuracy: 0.9330 - val_loss: 0.2554 - val_accuracy: 0.9054\n",
      "Epoch 21/50\n",
      "22/22 [==============================] - 0s 8ms/step - loss: 0.2072 - accuracy: 0.9160 - val_loss: 0.2541 - val_accuracy: 0.9088\n",
      "Epoch 22/50\n",
      "22/22 [==============================] - 0s 8ms/step - loss: 0.1985 - accuracy: 0.9229 - val_loss: 0.2557 - val_accuracy: 0.9122\n",
      "Epoch 23/50\n",
      "22/22 [==============================] - 0s 8ms/step - loss: 0.1563 - accuracy: 0.9543 - val_loss: 0.2554 - val_accuracy: 0.9088\n",
      "Epoch 24/50\n",
      "22/22 [==============================] - 0s 7ms/step - loss: 0.1868 - accuracy: 0.9307 - val_loss: 0.2542 - val_accuracy: 0.9054\n",
      "Epoch 25/50\n",
      "22/22 [==============================] - 0s 7ms/step - loss: 0.2304 - accuracy: 0.9064 - val_loss: 0.2550 - val_accuracy: 0.9020\n",
      "Epoch 26/50\n",
      "22/22 [==============================] - 0s 9ms/step - loss: 0.1700 - accuracy: 0.9321 - val_loss: 0.2547 - val_accuracy: 0.9054\n",
      "Epoch 27/50\n",
      "22/22 [==============================] - 0s 8ms/step - loss: 0.2483 - accuracy: 0.9308 - val_loss: 0.2525 - val_accuracy: 0.9020\n",
      "Epoch 28/50\n",
      "22/22 [==============================] - 0s 8ms/step - loss: 0.2483 - accuracy: 0.9101 - val_loss: 0.2493 - val_accuracy: 0.9054\n",
      "Epoch 29/50\n",
      "22/22 [==============================] - 0s 8ms/step - loss: 0.2361 - accuracy: 0.9328 - val_loss: 0.2492 - val_accuracy: 0.9054\n",
      "Epoch 30/50\n",
      "22/22 [==============================] - 0s 8ms/step - loss: 0.1979 - accuracy: 0.9293 - val_loss: 0.2500 - val_accuracy: 0.9020\n",
      "Epoch 31/50\n",
      "22/22 [==============================] - 0s 8ms/step - loss: 0.1594 - accuracy: 0.9410 - val_loss: 0.2500 - val_accuracy: 0.9054\n",
      "Epoch 32/50\n",
      "22/22 [==============================] - 0s 8ms/step - loss: 0.2016 - accuracy: 0.9323 - val_loss: 0.2509 - val_accuracy: 0.9054\n",
      "Epoch 33/50\n",
      "22/22 [==============================] - 0s 8ms/step - loss: 0.2017 - accuracy: 0.9327 - val_loss: 0.2511 - val_accuracy: 0.9054\n",
      "Epoch 34/50\n",
      "22/22 [==============================] - 0s 8ms/step - loss: 0.2568 - accuracy: 0.9126 - val_loss: 0.2498 - val_accuracy: 0.9054\n",
      "Epoch 35/50\n",
      "22/22 [==============================] - 0s 8ms/step - loss: 0.1715 - accuracy: 0.9483 - val_loss: 0.2492 - val_accuracy: 0.9054\n",
      "Epoch 36/50\n",
      "22/22 [==============================] - 0s 8ms/step - loss: 0.2343 - accuracy: 0.9270 - val_loss: 0.2478 - val_accuracy: 0.9054\n",
      "Epoch 37/50\n",
      "22/22 [==============================] - 0s 8ms/step - loss: 0.1661 - accuracy: 0.9494 - val_loss: 0.2481 - val_accuracy: 0.9054\n",
      "Epoch 38/50\n",
      "22/22 [==============================] - 0s 8ms/step - loss: 0.1708 - accuracy: 0.9347 - val_loss: 0.2490 - val_accuracy: 0.9054\n",
      "Epoch 39/50\n",
      "22/22 [==============================] - 0s 8ms/step - loss: 0.1548 - accuracy: 0.9444 - val_loss: 0.2502 - val_accuracy: 0.9054\n",
      "Epoch 40/50\n",
      "22/22 [==============================] - 0s 8ms/step - loss: 0.1799 - accuracy: 0.9246 - val_loss: 0.2496 - val_accuracy: 0.9054\n",
      "Epoch 41/50\n",
      "22/22 [==============================] - 0s 8ms/step - loss: 0.1740 - accuracy: 0.9397 - val_loss: 0.2514 - val_accuracy: 0.9054\n",
      "Epoch 42/50\n",
      "22/22 [==============================] - 0s 9ms/step - loss: 0.1962 - accuracy: 0.9245 - val_loss: 0.2513 - val_accuracy: 0.9054\n",
      "Epoch 43/50\n",
      "22/22 [==============================] - 0s 7ms/step - loss: 0.1693 - accuracy: 0.9391 - val_loss: 0.2490 - val_accuracy: 0.9054\n",
      "Epoch 44/50\n",
      "22/22 [==============================] - 0s 8ms/step - loss: 0.1979 - accuracy: 0.9347 - val_loss: 0.2483 - val_accuracy: 0.9054\n",
      "Epoch 45/50\n",
      "22/22 [==============================] - 0s 8ms/step - loss: 0.2362 - accuracy: 0.9075 - val_loss: 0.2483 - val_accuracy: 0.9054\n",
      "Epoch 46/50\n",
      "22/22 [==============================] - 0s 7ms/step - loss: 0.2139 - accuracy: 0.9282 - val_loss: 0.2475 - val_accuracy: 0.9054\n",
      "Epoch 47/50\n",
      "22/22 [==============================] - 0s 8ms/step - loss: 0.1585 - accuracy: 0.9428 - val_loss: 0.2476 - val_accuracy: 0.9054\n",
      "Epoch 48/50\n",
      "22/22 [==============================] - 0s 8ms/step - loss: 0.2189 - accuracy: 0.9299 - val_loss: 0.2469 - val_accuracy: 0.9054\n",
      "Epoch 49/50\n",
      "22/22 [==============================] - 0s 9ms/step - loss: 0.1714 - accuracy: 0.9371 - val_loss: 0.2467 - val_accuracy: 0.9054\n",
      "Epoch 50/50\n",
      "22/22 [==============================] - 0s 9ms/step - loss: 0.1955 - accuracy: 0.9296 - val_loss: 0.2457 - val_accuracy: 0.9054\n"
     ]
    },
    {
     "data": {
      "image/png": "[encoded data removed]",
      "text/plain": [
       "<Figure size 432x288 with 1 Axes>"
      ]
     },
     "metadata": {
      "needs_background": "light",
      "tags": []
     },
     "output_type": "display_data"
    },
    {
     "data": {
      "image/png": "[encoded data removed]",
      "text/plain": [
       "<Figure size 432x288 with 1 Axes>"
      ]
     },
     "metadata": {
      "needs_background": "light",
      "tags": []
     },
     "output_type": "display_data"
    }
   ],
   "source": [
    "model.compile(optimizer=Adam(lr=0.0001), loss = 'binary_crossentropy', metrics=['accuracy'])\n",
    "history = model.fit(X_train, y_train, epochs=epochs, validation_data=(X_test, y_test), verbose=1)\n",
    "plot_learningCurve(history, epochs)"
   ]
  },
  {
   "cell_type": "code",
   "execution_count": 90,
   "metadata": {
    "id": "2W7xRRsEu2N5"
   },
   "outputs": [],
   "source": [
    "y_pred = model.predict(X_test)"
   ]
  },
  {
   "cell_type": "code",
   "execution_count": 91,
   "metadata": {
    "colab": {
     "base_uri": "https://localhost:8080/"
    },
    "id": "Yo2Gissau_Lh",
    "outputId": "30db3d71-47d2-441c-f725-a5c768c28824"
   },
   "outputs": [
    {
     "name": "stdout",
     "output_type": "stream",
     "text": [
      "10/10 [==============================] - 0s 2ms/step - loss: 0.2457 - accuracy: 0.9054\n"
     ]
    }
   ],
   "source": [
    "testing = model.evaluate(X_test, y_test)"
   ]
  },
  {
   "cell_type": "code",
   "execution_count": 92,
   "metadata": {
    "id": "5-k1DmFuvcpV"
   },
   "outputs": [],
   "source": [
    "predictions = model.predict(X_test)\n",
    "predictions = predictions.flatten()"
   ]
  },
  {
   "cell_type": "code",
   "execution_count": 93,
   "metadata": {
    "colab": {
     "base_uri": "https://localhost:8080/"
    },
    "id": "XE41rquWvceZ",
    "outputId": "1044f498-8203-413f-dc28-c556ab8e34f4"
   },
   "outputs": [
    {
     "data": {
      "text/plain": [
       "array([0.01340467, 0.03297016, 0.99998665, 0.03794527, 0.9991701 ,\n",
       "       0.06445998, 0.9022022 , 0.13145313, 0.01940271, 0.9999342 ,\n",
       "       0.05307579, 0.15378538, 1.        , 0.08014199, 0.99996287,\n",
       "       0.9741764 , 0.99997634, 0.02990583, 0.99998474, 0.9998295 ,\n",
       "       0.9175712 , 0.1096563 , 0.9999949 , 0.0054957 , 0.44362614,\n",
       "       0.01473394, 0.03068355, 0.9999993 , 0.22380769, 0.01915801,\n",
       "       0.9838995 , 0.99920964, 0.07846171, 0.03637964, 0.04686433,\n",
       "       0.14567485, 0.0073604 , 0.99923635, 0.00356317, 0.9999113 ,\n",
       "       0.0151206 , 0.9991224 , 0.01904419, 0.9999782 , 1.        ,\n",
       "       0.04051802, 0.15071863, 0.31103015, 0.09494799, 0.99937487,\n",
       "       0.9999988 , 0.9999746 , 0.9904356 , 0.99999976, 0.34249994,\n",
       "       0.00549668, 0.0749456 , 0.10734013, 0.9999405 , 0.99990845,\n",
       "       0.9989501 , 0.07064563, 0.00886366, 0.19216591, 0.03238744,\n",
       "       0.9999968 , 0.04832479, 0.14309451, 0.03516683, 0.99956787,\n",
       "       0.038138  , 0.8550836 , 1.        , 0.01337668, 0.0131385 ,\n",
       "       0.8704339 , 0.99965465, 0.0148809 , 0.14127153, 0.99991035,\n",
       "       0.9999399 , 0.04185355, 0.99779093, 0.99985313, 0.9351301 ,\n",
       "       0.03760973, 0.9994711 , 0.07355934, 0.15858313, 0.2870574 ,\n",
       "       0.99998224, 0.9999948 , 0.999985  , 0.02889854, 0.9998863 ,\n",
       "       0.99352765, 0.11266783, 0.8104075 , 0.9996772 , 0.11446774,\n",
       "       0.9999684 , 0.12105039, 0.9993539 , 0.9911245 , 0.07640025,\n",
       "       0.0212864 , 0.99990463, 0.9998214 , 0.01404884, 0.9998528 ,\n",
       "       0.9955664 , 0.998505  , 0.00715458, 0.03535378, 0.8911034 ,\n",
       "       0.03405634, 0.999811  , 0.13733935, 0.99978244, 0.23278916,\n",
       "       0.9999881 , 0.9999137 , 0.00504613, 0.12263438, 0.29482502,\n",
       "       0.99919343, 0.99999744, 0.99994636, 0.00855035, 0.9999894 ,\n",
       "       0.12621209, 0.9999988 , 0.14698067, 0.08686799, 0.02208376,\n",
       "       0.08120903, 0.02082899, 0.01149097, 0.00639269, 0.01467371,\n",
       "       0.9999534 , 0.16130385, 0.99623716, 0.03421429, 0.02726436,\n",
       "       1.        , 0.99790347, 0.91263306, 0.5500295 , 0.03537315,\n",
       "       0.00741494, 0.14364907, 0.01906076, 0.9999678 , 0.99993813,\n",
       "       0.01286656, 0.00991479, 0.00925055, 0.00497738, 0.12726945,\n",
       "       0.14032587, 0.01732168, 0.5122597 , 0.99996173, 0.0095897 ,\n",
       "       0.01835817, 0.36035317, 0.00394189, 0.49104494, 0.9999824 ,\n",
       "       0.99987364, 0.9999974 , 0.99999976, 0.99953413, 0.18830296,\n",
       "       0.00979832, 0.589182  , 0.07196459, 0.10866275, 0.9999631 ,\n",
       "       0.02205989, 0.9998908 , 0.01451647, 0.02295181, 0.9996519 ,\n",
       "       0.99999666, 0.03985184, 0.03587088, 0.99940825, 0.02337921,\n",
       "       0.03298   , 0.9989209 , 0.9999782 , 0.9990138 , 0.46260965,\n",
       "       0.99999547, 1.        , 0.99768114, 0.30845892, 0.01230577,\n",
       "       0.9999994 , 0.9996171 , 0.01398879, 0.12067688, 0.02015585,\n",
       "       0.24943843, 0.3205588 , 0.99993914, 0.10355327, 0.04342952,\n",
       "       0.01630798, 0.07699108, 0.9388241 , 0.01476893, 0.03173983,\n",
       "       0.12187424, 0.01551229, 0.10567224, 1.        , 0.04638177,\n",
       "       0.05321091, 0.01775572, 0.9461926 , 0.11101305, 0.99987817,\n",
       "       0.00678915, 0.99985313, 0.03958896, 0.03923085, 0.13529456,\n",
       "       0.06466928, 0.99996626, 0.65348095, 0.996499  , 0.01240927,\n",
       "       0.9984472 , 0.541607  , 0.01415381, 0.07077727, 0.99993557,\n",
       "       0.10220337, 0.9999962 , 1.        , 0.11168921, 0.9819117 ,\n",
       "       0.01681158, 0.0261285 , 0.03607577, 0.10394827, 0.99999183,\n",
       "       0.02976424, 0.9999988 , 0.9860425 , 0.99999106, 0.02833241,\n",
       "       0.03320986, 0.02619225, 0.03878191, 0.33682114, 0.9910224 ,\n",
       "       0.01128533, 0.9999684 , 0.00238723, 0.9997187 , 0.9993872 ,\n",
       "       0.98848045, 0.15569377, 0.2170451 , 0.99984854, 0.09018603,\n",
       "       0.02043134, 0.9937123 , 0.00826588, 0.0102008 , 0.03433794,\n",
       "       0.0275133 , 0.75877315, 0.10402238, 0.02733371, 0.15065292,\n",
       "       0.14065647, 0.12201208, 0.99999833, 0.04530579, 0.09508181,\n",
       "       0.02891278, 0.02238572, 1.        , 0.01363331, 0.9985601 ,\n",
       "       0.9999871 , 0.04242226, 0.0551222 , 0.00913641, 0.04603264,\n",
       "       1.        ], dtype=float32)"
      ]
     },
     "execution_count": 93,
     "metadata": {
      "tags": []
     },
     "output_type": "execute_result"
    }
   ],
   "source": [
    "predictions"
   ]
  },
  {
   "cell_type": "code",
   "execution_count": 94,
   "metadata": {
    "colab": {
     "base_uri": "https://localhost:8080/"
    },
    "id": "a-RKx1yWvcbd",
    "outputId": "674fdd71-2cd8-4f5b-ec82-4243607adf74"
   },
   "outputs": [
    {
     "name": "stdout",
     "output_type": "stream",
     "text": [
      "10/10 [==============================] - 0s 3ms/step - loss: 0.2457 - accuracy: 0.9054\n"
     ]
    }
   ],
   "source": [
    "testing = model.evaluate(X_test, y_test)"
   ]
  },
  {
   "cell_type": "code",
   "execution_count": null,
   "metadata": {
    "id": "9reUVJFMu7Sc"
   },
   "outputs": [],
   "source": []
  }
 ],
 "metadata": {
  "colab": {
   "collapsed_sections": [],
   "name": "2_Credit_Card_Fraud_Detection.ipynb",
   "provenance": []
  },
  "kernelspec": {
   "display_name": "Python 3",
   "language": "python",
   "name": "python3"
  },
  "language_info": {
   "codemirror_mode": {
    "name": "ipython",
    "version": 3
   },
   "file_extension": ".py",
   "mimetype": "text/x-python",
   "name": "python",
   "nbconvert_exporter": "python",
   "pygments_lexer": "ipython3",
   "version": "3.9.2"
  }
 },
 "nbformat": 4,
 "nbformat_minor": 1
}
